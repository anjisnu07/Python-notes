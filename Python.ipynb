{
 "cells": [
  {
   "cell_type": "markdown",
   "id": "8c3ee9c2-9f72-41b6-9757-922f8e8be3eb",
   "metadata": {
    "jp-MarkdownHeadingCollapsed": true
   },
   "source": [
    "## 1. Python output"
   ]
  },
  {
   "cell_type": "code",
   "execution_count": 1,
   "id": "28b846d1-ffca-4ddb-bdd6-c49d400d4f85",
   "metadata": {},
   "outputs": [
    {
     "name": "stdout",
     "output_type": "stream",
     "text": [
      "Itobuz\n"
     ]
    }
   ],
   "source": [
    "print(\"Itobuz\")"
   ]
  },
  {
   "cell_type": "code",
   "execution_count": 2,
   "id": "d976a177-5a19-4613-ae8e-9668e88f3954",
   "metadata": {},
   "outputs": [
    {
     "name": "stdout",
     "output_type": "stream",
     "text": [
      "5\n"
     ]
    }
   ],
   "source": [
    "print(5)"
   ]
  },
  {
   "cell_type": "code",
   "execution_count": 3,
   "id": "a780cebb-69ba-42e5-be70-c29d6c1bf619",
   "metadata": {},
   "outputs": [
    {
     "name": "stdout",
     "output_type": "stream",
     "text": [
      "<class 'int'>\n"
     ]
    }
   ],
   "source": [
    "print(type(5))"
   ]
  },
  {
   "cell_type": "code",
   "execution_count": 5,
   "id": "54836960-448f-48f2-91b2-718cedf48d5c",
   "metadata": {},
   "outputs": [
    {
     "name": "stdout",
     "output_type": "stream",
     "text": [
      "Hello451452455\n"
     ]
    }
   ],
   "source": [
    "print(\"Hello\",1,2,\"5\")"
   ]
  },
  {
   "cell_type": "markdown",
   "id": "5dd9af1f-11b9-4d88-a6ea-61f6b9483206",
   "metadata": {},
   "source": [
    "<p style=\"color:red; font-size:14px;\">Why does Python put a space between printed items?</p>\n",
    "\n",
    "---\n",
    "\n",
    "When you print multiple items with `print()`, Python puts a space between them by default.  \n",
    "\n",
    "This happens because of the **`sep`** parameter, which is set to `' '` (space) by default.\n",
    "\n",
    "---\n",
    "\n",
    "##### Full `print()` Function with Defaults\n",
    "```python\n",
    "print(object(s), sep=' ', end='\\n', file=sys.stdout, flush=False)\n",
    "```\n",
    "\n",
    "| Parameter   | Default Value     | Meaning (Easy Explanation)                                                                                                                         |\n",
    "| ----------- | ----------------- | -------------------------------------------------------------------------------------------------------------------------------------------------- |\n",
    "| `object(s)` | Required          | The things you want to print. It can be text, numbers, variables, etc.                                                                             |\n",
    "| `sep`       | `' '` (space)     | **Separator** between multiple items. Default is a space. You can change it to anything like `,` or `-`.                                           |\n",
    "| `end`       | `'\\n'` (new line) | What gets printed **after** your message. By default, it adds a new line. You can change it to anything like `\" \"` or `\"😊\"`.                      |\n",
    "| `file`      | `sys.stdout`      | Where the output goes. By default, it's the screen. You can redirect output to a file.                                                             |\n",
    "| `flush`     | `False`           | If `True`, forces Python to show the output immediately. Used in special cases like real-time progress updates. Beginners can usually ignore this. |\n",
    "\n",
    "\n",
    "\n"
   ]
  },
  {
   "cell_type": "code",
   "execution_count": 6,
   "id": "3936c781-60c1-4df7-9aad-63c1fc2638c6",
   "metadata": {},
   "outputs": [
    {
     "name": "stdout",
     "output_type": "stream",
     "text": [
      "Hello-1-2-5\n"
     ]
    }
   ],
   "source": [
    "print(\"Hello\",1,2,\"5\",sep=\"-\")"
   ]
  },
  {
   "cell_type": "code",
   "execution_count": 7,
   "id": "290ab0f3-dce1-4258-a69b-aef18b64a070",
   "metadata": {},
   "outputs": [
    {
     "name": "stdout",
     "output_type": "stream",
     "text": [
      "1\n",
      "2\n"
     ]
    }
   ],
   "source": [
    "print(\"1\")\n",
    "print(\"2\")"
   ]
  },
  {
   "cell_type": "markdown",
   "id": "e500df6f-1720-4022-986b-8c9d663767c8",
   "metadata": {},
   "source": [
    "<p style=\"color:green; font-size:18px;\"> 1 and 2 are in different line right? This is because of 'end' parameter and its default value is '\\n' which is newline character</p>"
   ]
  },
  {
   "cell_type": "code",
   "execution_count": 9,
   "id": "c60cf463-6267-4270-9fdb-adf19478c5f7",
   "metadata": {},
   "outputs": [
    {
     "name": "stdout",
     "output_type": "stream",
     "text": [
      "1 2\n"
     ]
    }
   ],
   "source": [
    "print(1,end=\" \")\n",
    "print(2)"
   ]
  },
  {
   "cell_type": "markdown",
   "id": "b3b25cd3-e6a6-4e29-943c-83e2a95ea1e1",
   "metadata": {
    "jp-MarkdownHeadingCollapsed": true
   },
   "source": [
    "## 2. Data types\n",
    "- Integer\n",
    "- decimal/float\n",
    "- boolean\n",
    "- string\n",
    "- complex numbers\n",
    "- List\n",
    "- Tuples\n",
    "- set\n",
    "- Dict"
   ]
  },
  {
   "cell_type": "code",
   "execution_count": 21,
   "id": "f8a46cfe-836c-45fd-83f9-7440767df344",
   "metadata": {},
   "outputs": [
    {
     "name": "stdout",
     "output_type": "stream",
     "text": [
      "<class 'int'>\n"
     ]
    }
   ],
   "source": [
    "print(type(8))"
   ]
  },
  {
   "cell_type": "code",
   "execution_count": 20,
   "id": "c8e1b50c-59ac-496c-a6c2-a53ea91e4572",
   "metadata": {},
   "outputs": [
    {
     "name": "stdout",
     "output_type": "stream",
     "text": [
      "<class 'float'>\n"
     ]
    }
   ],
   "source": [
    "print(type(7.5))"
   ]
  },
  {
   "cell_type": "code",
   "execution_count": 19,
   "id": "2bf341cd-8cff-4dd5-94be-7d92b614d74a",
   "metadata": {},
   "outputs": [
    {
     "name": "stdout",
     "output_type": "stream",
     "text": [
      "<class 'bool'>\n"
     ]
    }
   ],
   "source": [
    "print(type(True))"
   ]
  },
  {
   "cell_type": "code",
   "execution_count": 18,
   "id": "ec1c6d13-4799-4af1-bbda-da72857f0110",
   "metadata": {},
   "outputs": [
    {
     "name": "stdout",
     "output_type": "stream",
     "text": [
      "<class 'str'>\n"
     ]
    }
   ],
   "source": [
    "print(type(\"Anjisnu\"))"
   ]
  },
  {
   "cell_type": "code",
   "execution_count": 26,
   "id": "c05e1213-2550-41c5-80ab-bb648d58e2f4",
   "metadata": {},
   "outputs": [
    {
     "name": "stdout",
     "output_type": "stream",
     "text": [
      "<class 'list'>\n"
     ]
    }
   ],
   "source": [
    "print(type([1,2,3]))"
   ]
  },
  {
   "cell_type": "code",
   "execution_count": 28,
   "id": "f17b1fcb-e52e-452a-be2d-253fab9fd6d2",
   "metadata": {},
   "outputs": [
    {
     "name": "stdout",
     "output_type": "stream",
     "text": [
      "<class 'tuple'>\n"
     ]
    }
   ],
   "source": [
    "print(type((1,2,3,4)))"
   ]
  },
  {
   "cell_type": "code",
   "execution_count": 29,
   "id": "f54439e0-be3e-4307-b482-d4899d2678d0",
   "metadata": {},
   "outputs": [
    {
     "name": "stdout",
     "output_type": "stream",
     "text": [
      "<class 'set'>\n"
     ]
    }
   ],
   "source": [
    "print(type({1,2,3}))"
   ]
  },
  {
   "cell_type": "code",
   "execution_count": 30,
   "id": "f1a41960-cac0-4e1a-9890-1b67949b7c94",
   "metadata": {},
   "outputs": [
    {
     "name": "stdout",
     "output_type": "stream",
     "text": [
      "<class 'dict'>\n"
     ]
    }
   ],
   "source": [
    "print(type({'name' : 'Anjsnu','gender' : 'Male'}))"
   ]
  },
  {
   "cell_type": "markdown",
   "id": "69412691-d95f-455d-b4e5-2af6bcceccc4",
   "metadata": {
    "jp-MarkdownHeadingCollapsed": true
   },
   "source": [
    "## 3. Variables\n",
    "\n",
    "Variables are basically **containers** that store information for future use.\n",
    "\n",
    "When you create a variable, you don't always know exactly what the user or the program might store in it later — it can be a number, text, or almost anything.\n",
    "\n",
    "That’s why we use variables — to hold values that can change or be updated as needed.\n",
    "\n",
    "```python\n",
    "name = \"John\"      # A text value\n",
    "age = 25           # A number value\n",
    "price = 99.99      # A decimal value\n",
    "```\n",
    "<p style=\"color:green; font-size:18px;\"> The best part is you never need to specify the datatype of the variable</p>"
   ]
  },
  {
   "cell_type": "code",
   "execution_count": 38,
   "id": "fd920fc6-3f6b-450f-aa4c-bf43973e610f",
   "metadata": {},
   "outputs": [
    {
     "name": "stdout",
     "output_type": "stream",
     "text": [
      "Anjisnu\n"
     ]
    }
   ],
   "source": [
    "name = \"Anjisnu\"\n",
    "print(name)"
   ]
  },
  {
   "cell_type": "code",
   "execution_count": 39,
   "id": "ac51999e-2855-4505-993f-d8db3db819f8",
   "metadata": {},
   "outputs": [
    {
     "name": "stdout",
     "output_type": "stream",
     "text": [
      "18\n"
     ]
    }
   ],
   "source": [
    "a=6\n",
    "b=12\n",
    "print(a+b)"
   ]
  },
  {
   "cell_type": "markdown",
   "id": "45a194c1-9840-4e9d-8b88-8e7a3fc1e915",
   "metadata": {},
   "source": [
    "**Dynamic Typing**\n",
    "\n",
    "In Python, you don't need to tell the type of a variable when you create it. The **Python interpreter is smart enough** to figure out the type by looking at the value you assign.\n",
    "\n",
    "This is called **Dynamic Typing**.\n",
    "Example:\n",
    "\n",
    "```python\n",
    "x = 10        # Python knows this is an integer\n",
    "x = \"Hello\"   # Now, Python knows this is a string\n",
    "x = 3.14      # Now, it's a float\n",
    "```\n",
    "\n",
    "**Dynamic Binding**\n",
    "  \n",
    "It means that the actual value (or type) of a variable is decided at runtime, not at the time of writing the code.\n",
    "\n",
    "In simple terms, the connection between the variable name and its actual object/value happens when the program is running.\n",
    "\n",
    "```python\n",
    "def greet(name):\n",
    "    print(\"Hello,\", name)\n",
    "\n",
    "greet(\"John\")   # 'name' is bound to the string 'John' at runtime\n",
    "greet(123)      # 'name' is bound to the integer 123 at runtime\n"
   ]
  },
  {
   "cell_type": "code",
   "execution_count": 40,
   "id": "fb04107c-b4c2-4533-8ca9-ef0b9f1c9ca1",
   "metadata": {},
   "outputs": [
    {
     "name": "stdout",
     "output_type": "stream",
     "text": [
      "1 2 3\n"
     ]
    }
   ],
   "source": [
    "a,b,c=1,2,3\n",
    "print(a,b,c)"
   ]
  },
  {
   "cell_type": "code",
   "execution_count": 43,
   "id": "eb016c16-7171-4488-aa2b-bbbf9a43b939",
   "metadata": {},
   "outputs": [
    {
     "name": "stdout",
     "output_type": "stream",
     "text": [
      "5 5 5\n"
     ]
    }
   ],
   "source": [
    "a=b=c=5\n",
    "print(a,b,c)"
   ]
  },
  {
   "cell_type": "markdown",
   "id": "8009b7d1-9df7-4bcf-8180-6f98b2c71d54",
   "metadata": {
    "jp-MarkdownHeadingCollapsed": true
   },
   "source": [
    "## 4. Keywrods & Identifiers\n",
    "\n",
    "\n",
    "**Keywords**\n",
    "\n",
    "Keywords are the **reserved words** in Python that have special meaning. You **cannot** use them as variable names, function names, or identifiers.\n",
    "\n",
    "They are part of the Python language syntax itself.\n",
    "\n",
    "**Example of Keywords:**\n",
    "\n",
    "```python\n",
    "if = 10    # ❌ Invalid - 'if' is a keyword\n",
    "```\n",
    "\n",
    "**What are Identifiers?**\n",
    "\n",
    "**Identifiers** are the names you assign to:\n",
    "\n",
    "- Variables  \n",
    "- Functions  \n",
    "- Classes  \n",
    "- Modules  \n",
    "- Objects  \n",
    "\n",
    "They are used to uniquely identify different parts of your code.\n",
    "\n",
    "---\n",
    "\n",
    "**Rules for Writing Identifiers:**\n",
    "\n",
    "Can contain **letters (A-Z, a-z)**, **digits (0-9)**, and **underscores `_`**  \n",
    "**Cannot start with a digit**  \n",
    "**Cannot be a Python keyword**  \n",
    "Are **case-sensitive** (`Name` and `name` are different)  \n",
    "\n",
    "---\n",
    "\n",
    "**Examples of Valid Identifiers:**\n",
    "\n",
    "```python\n",
    "name = \"Alice\"\n",
    "age = 30\n",
    "_total = 100\n",
    "userName = \"John\"\n",
    "price2 = 49.99\n"
   ]
  },
  {
   "cell_type": "code",
   "execution_count": 46,
   "id": "281e3c4a-e090-4a1b-9b77-fea24f3a7f79",
   "metadata": {},
   "outputs": [
    {
     "ename": "SyntaxError",
     "evalue": "invalid syntax (1330624585.py, line 2)",
     "output_type": "error",
     "traceback": [
      "\u001b[0;36m  Cell \u001b[0;32mIn[46], line 2\u001b[0;36m\u001b[0m\n\u001b[0;31m    if=10\u001b[0m\n\u001b[0m      ^\u001b[0m\n\u001b[0;31mSyntaxError\u001b[0m\u001b[0;31m:\u001b[0m invalid syntax\n"
     ]
    }
   ],
   "source": [
    "# error\n",
    "if=10"
   ]
  },
  {
   "cell_type": "code",
   "execution_count": 51,
   "id": "1fc08fcf-6ec2-42ae-a52a-ff05f58a42c9",
   "metadata": {},
   "outputs": [
    {
     "name": "stdout",
     "output_type": "stream",
     "text": [
      "name :  Anjisnu \n",
      " Name :  roy\n"
     ]
    }
   ],
   "source": [
    "# Case sensitive\n",
    "name=\"Anjisnu\"\n",
    "Name=\"roy\"\n",
    "print(\"name : \", name ,\"\\n\", \"Name : \", Name)"
   ]
  },
  {
   "cell_type": "markdown",
   "id": "01344058-2c30-42c1-9b72-b1234fbd77ef",
   "metadata": {
    "jp-MarkdownHeadingCollapsed": true
   },
   "source": [
    "## 5. User Input"
   ]
  },
  {
   "cell_type": "code",
   "execution_count": 53,
   "id": "a9bbc2bf-8df6-46e5-8ce0-954a09a824ad",
   "metadata": {},
   "outputs": [
    {
     "name": "stdin",
     "output_type": "stream",
     "text": [
      "What is your name Anjisnu\n"
     ]
    }
   ],
   "source": [
    "Name = input(\"What is your name\")"
   ]
  },
  {
   "cell_type": "code",
   "execution_count": 55,
   "id": "4359156e-e2d8-4022-8de9-e537bb07d303",
   "metadata": {},
   "outputs": [
    {
     "name": "stdout",
     "output_type": "stream",
     "text": [
      "Anjisnu\n"
     ]
    }
   ],
   "source": [
    "print(Name)"
   ]
  },
  {
   "cell_type": "code",
   "execution_count": 57,
   "id": "078f1939-9b9a-4e34-ae0f-5b98297790ad",
   "metadata": {},
   "outputs": [
    {
     "name": "stdin",
     "output_type": "stream",
     "text": [
      "Enter one number 3\n",
      "Enter 2nd number 12\n"
     ]
    },
    {
     "name": "stdout",
     "output_type": "stream",
     "text": [
      "312\n"
     ]
    }
   ],
   "source": [
    "a=input(\"Enter one number\")\n",
    "b=input(\"Enter 2nd number\")\n",
    "print(a+b)"
   ]
  },
  {
   "cell_type": "markdown",
   "id": "adce5345-020a-4517-be83-0cc6c5684cab",
   "metadata": {},
   "source": [
    "<p style=\"color:orange; font-size:16px;\">\n",
    "When we take input from the user using <code>input()</code>, it is always stored as a <b>string</b>.  \n",
    "This is because <b>string</b> is a universal data format — it can represent letters, numbers, symbols, anything!As solution we need to typecast the data type to int or something for mathematical operations\n",
    "</p>"
   ]
  },
  {
   "cell_type": "code",
   "execution_count": 58,
   "id": "53d33745-8eb0-404f-ae61-6a23296345a9",
   "metadata": {},
   "outputs": [
    {
     "name": "stdin",
     "output_type": "stream",
     "text": [
      "Enter one number 3\n",
      "Enter 2nd number 4\n"
     ]
    },
    {
     "name": "stdout",
     "output_type": "stream",
     "text": [
      "7\n"
     ]
    }
   ],
   "source": [
    "a=input(\"Enter one number\")\n",
    "b=input(\"Enter 2nd number\")\n",
    "print(int(a)+int(b))"
   ]
  },
  {
   "cell_type": "markdown",
   "id": "013d122f-6d74-43bd-807d-1f4f6458921a",
   "metadata": {
    "jp-MarkdownHeadingCollapsed": true
   },
   "source": [
    "## 6. Typecasting\n",
    "\n",
    "- It is of two types:\n",
    "  - Implicit : Which python automatically handle by himself\n",
    "  - explicit :  where we need to convert manually"
   ]
  },
  {
   "cell_type": "code",
   "execution_count": 59,
   "id": "393c1211-d326-479d-98e0-051fb0956fb2",
   "metadata": {},
   "outputs": [
    {
     "name": "stdout",
     "output_type": "stream",
     "text": [
      "<class 'float'>\n"
     ]
    }
   ],
   "source": [
    "# IMplicit example\n",
    "a=4+6.5\n",
    "print(type(a))"
   ]
  },
  {
   "cell_type": "code",
   "execution_count": 60,
   "id": "0f6a03e4-11a3-47d8-b269-606041171eae",
   "metadata": {},
   "outputs": [],
   "source": [
    "# explicit\n"
   ]
  },
  {
   "cell_type": "code",
   "execution_count": 61,
   "id": "3c176a19-02c3-4e4d-9176-eee2e87758b4",
   "metadata": {},
   "outputs": [
    {
     "name": "stdin",
     "output_type": "stream",
     "text": [
      "Enter one number 8\n",
      "Enter 2nd number 9\n"
     ]
    },
    {
     "name": "stdout",
     "output_type": "stream",
     "text": [
      "17\n"
     ]
    }
   ],
   "source": [
    "a=input(\"Enter one number\")\n",
    "b=input(\"Enter 2nd number\")\n",
    "print(int(a)+int(b))"
   ]
  },
  {
   "cell_type": "markdown",
   "id": "4a953622-1a2a-41cb-82ff-c7423995bc96",
   "metadata": {},
   "source": [
    "<p style=\"color: red; font-size: 18px\">What will be the datatype of 'a' and 'b' now? it will be int cause we typecasted?</p>"
   ]
  },
  {
   "cell_type": "code",
   "execution_count": 63,
   "id": "3fd36a80-5f4d-4bd2-b83d-8b4610f5d9c2",
   "metadata": {},
   "outputs": [
    {
     "data": {
      "text/plain": [
       "str"
      ]
     },
     "execution_count": 63,
     "metadata": {},
     "output_type": "execute_result"
    }
   ],
   "source": [
    "type(a)"
   ]
  },
  {
   "cell_type": "markdown",
   "id": "4e1f1fc2-dac1-4b4f-b1b7-033085153bf3",
   "metadata": {},
   "source": [
    "<p style=\"color: green;font-size: 18px\">It is still string just because we havent stored the typecasted variable in original</p>"
   ]
  },
  {
   "cell_type": "markdown",
   "id": "f58832f5-3aeb-41b0-93b3-802cd41fabf0",
   "metadata": {},
   "source": [
    "## 7. Literals"
   ]
  },
  {
   "cell_type": "markdown",
   "id": "b862b6d2-43ff-4ad6-91a0-cb06094024d5",
   "metadata": {},
   "source": [
    "**What are Literals?**\n",
    "\n",
    "In Python, **Literals** are the fixed values or constant values that you write directly in your code.  \n",
    "\n",
    "They represent the actual data, not variables or functions.\n",
    "\n",
    "**Types of Literals in Python**\n",
    "\n",
    "| Type            | Example                  | Description                                    |\n",
    "|-----------------|--------------------------|------------------------------------------------|\n",
    "| **String Literal**  | `\"Hello\"`, `'Python'`   | Text enclosed in single or double quotes.      |\n",
    "| **Integer Literal** | `10`, `-5`, `1000`      | Whole numbers, positive or negative.           |\n",
    "| **Float Literal**   | `3.14`, `-0.5`, `2.0`   | Numbers with decimal points.                   |\n",
    "| **Boolean Literal** | `True`, `False`         | Represents truth values.                       |\n",
    "| **None Literal**    | `None`                  | Represents \"nothing\" or \"no value\".            |\n",
    "\n",
    "\n",
    "**Example Code:**\n",
    "\n",
    "```python\n",
    "# String Literal\n",
    "name = \"Alice\"\n",
    "\n",
    "# Integer Literal\n",
    "age = 25\n",
    "\n",
    "# Float Literal\n",
    "price = 49.99\n",
    "\n",
    "# Boolean Literal\n",
    "is_active = True\n",
    "\n",
    "# None Literal\n",
    "data = None\n"
   ]
  },
  {
   "cell_type": "code",
   "execution_count": 65,
   "id": "98c62891-93b8-4878-8456-c5789c2c6d5e",
   "metadata": {},
   "outputs": [],
   "source": [
    "name = \"Anjisnu\" # This is a constant value with no varriable this is a literal"
   ]
  },
  {
   "cell_type": "code",
   "execution_count": null,
   "id": "e96ecc9c-1aab-4844-9bcf-d8900a5e08f8",
   "metadata": {},
   "outputs": [],
   "source": [
    "2*x+3 # This is not literal cause the X is a variable and"
   ]
  },
  {
   "cell_type": "markdown",
   "id": "55174104-a939-4798-b555-4c920217c7f9",
   "metadata": {},
   "source": [
    "<p style=\"color: orange; font-size: 18px\" > what is the use of none? </p>"
   ]
  },
  {
   "cell_type": "code",
   "execution_count": 68,
   "id": "6e77f9c5-9d7f-458c-917c-99062016cdbb",
   "metadata": {},
   "outputs": [],
   "source": [
    "k=None"
   ]
  },
  {
   "cell_type": "markdown",
   "id": "305fcc90-353e-4361-893e-056d2dcde440",
   "metadata": {},
   "source": [
    "<p style=\"color: green; font-size: 18px\">Suppose we don't know like how many varriables we actually need, so for that purpose we can create this as None and later on change with orignal values</p>"
   ]
  },
  {
   "cell_type": "code",
   "execution_count": 70,
   "id": "5734d8a5-500f-4c32-80db-19d95f20b0ec",
   "metadata": {},
   "outputs": [],
   "source": [
    "k=10"
   ]
  },
  {
   "cell_type": "code",
   "execution_count": 71,
   "id": "626d2626-cfae-4f37-8cb1-e24cc6f3d038",
   "metadata": {},
   "outputs": [
    {
     "data": {
      "text/plain": [
       "10"
      ]
     },
     "execution_count": 71,
     "metadata": {},
     "output_type": "execute_result"
    }
   ],
   "source": [
    "k"
   ]
  },
  {
   "cell_type": "code",
   "execution_count": null,
   "id": "bdf5ff1c-054e-4914-a619-3ae847c71500",
   "metadata": {},
   "outputs": [],
   "source": []
  }
 ],
 "metadata": {
  "kernelspec": {
   "display_name": "Python 3 (ipykernel)",
   "language": "python",
   "name": "python3"
  },
  "language_info": {
   "codemirror_mode": {
    "name": "ipython",
    "version": 3
   },
   "file_extension": ".py",
   "mimetype": "text/x-python",
   "name": "python",
   "nbconvert_exporter": "python",
   "pygments_lexer": "ipython3",
   "version": "3.12.7"
  }
 },
 "nbformat": 4,
 "nbformat_minor": 5
}
