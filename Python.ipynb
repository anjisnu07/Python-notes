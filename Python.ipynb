{
 "cells": [
  {
   "cell_type": "markdown",
   "id": "8c3ee9c2-9f72-41b6-9757-922f8e8be3eb",
   "metadata": {
    "id": "8c3ee9c2-9f72-41b6-9757-922f8e8be3eb",
    "jp-MarkdownHeadingCollapsed": true
   },
   "source": [
    "## 1. Python output"
   ]
  },
  {
   "cell_type": "code",
   "execution_count": null,
   "id": "28b846d1-ffca-4ddb-bdd6-c49d400d4f85",
   "metadata": {
    "id": "28b846d1-ffca-4ddb-bdd6-c49d400d4f85",
    "outputId": "75a719e1-b344-4c37-e8dd-7496fb777883"
   },
   "outputs": [
    {
     "name": "stdout",
     "output_type": "stream",
     "text": [
      "Itobuz\n"
     ]
    }
   ],
   "source": [
    "print(\"Itobuz\")"
   ]
  },
  {
   "cell_type": "code",
   "execution_count": null,
   "id": "d976a177-5a19-4613-ae8e-9668e88f3954",
   "metadata": {
    "id": "d976a177-5a19-4613-ae8e-9668e88f3954",
    "outputId": "e746ee77-c020-4656-e555-b53ba9e93361"
   },
   "outputs": [
    {
     "name": "stdout",
     "output_type": "stream",
     "text": [
      "5\n"
     ]
    }
   ],
   "source": [
    "print(5)"
   ]
  },
  {
   "cell_type": "code",
   "execution_count": null,
   "id": "a780cebb-69ba-42e5-be70-c29d6c1bf619",
   "metadata": {
    "id": "a780cebb-69ba-42e5-be70-c29d6c1bf619",
    "outputId": "e4f6e317-d218-4cc3-90f2-8989fe004570"
   },
   "outputs": [
    {
     "name": "stdout",
     "output_type": "stream",
     "text": [
      "<class 'int'>\n"
     ]
    }
   ],
   "source": [
    "print(type(5))"
   ]
  },
  {
   "cell_type": "code",
   "execution_count": null,
   "id": "54836960-448f-48f2-91b2-718cedf48d5c",
   "metadata": {
    "id": "54836960-448f-48f2-91b2-718cedf48d5c",
    "outputId": "e3ac8d2e-6981-4028-9a5c-16bff9455ca0"
   },
   "outputs": [
    {
     "name": "stdout",
     "output_type": "stream",
     "text": [
      "Hello451452455\n"
     ]
    }
   ],
   "source": [
    "print(\"Hello\",1,2,\"5\")"
   ]
  },
  {
   "cell_type": "markdown",
   "id": "5dd9af1f-11b9-4d88-a6ea-61f6b9483206",
   "metadata": {
    "id": "5dd9af1f-11b9-4d88-a6ea-61f6b9483206"
   },
   "source": [
    "<p style=\"color:red; font-size:14px;\">Why does Python put a space between printed items?</p>\n",
    "\n",
    "---\n",
    "\n",
    "When you print multiple items with `print()`, Python puts a space between them by default.  \n",
    "\n",
    "This happens because of the **`sep`** parameter, which is set to `' '` (space) by default.\n",
    "\n",
    "---\n",
    "\n",
    "##### Full `print()` Function with Defaults\n",
    "```python\n",
    "print(object(s), sep=' ', end='\\n', file=sys.stdout, flush=False)\n",
    "```\n",
    "\n",
    "| Parameter   | Default Value     | Meaning (Easy Explanation)                                                                                                                         |\n",
    "| ----------- | ----------------- | -------------------------------------------------------------------------------------------------------------------------------------------------- |\n",
    "| `object(s)` | Required          | The things you want to print. It can be text, numbers, variables, etc.                                                                             |\n",
    "| `sep`       | `' '` (space)     | **Separator** between multiple items. Default is a space. You can change it to anything like `,` or `-`.                                           |\n",
    "| `end`       | `'\\n'` (new line) | What gets printed **after** your message. By default, it adds a new line. You can change it to anything like `\" \"` or `\"😊\"`.                      |\n",
    "| `file`      | `sys.stdout`      | Where the output goes. By default, it's the screen. You can redirect output to a file.                                                             |\n",
    "| `flush`     | `False`           | If `True`, forces Python to show the output immediately. Used in special cases like real-time progress updates. Beginners can usually ignore this. |\n",
    "\n",
    "\n",
    "\n"
   ]
  },
  {
   "cell_type": "code",
   "execution_count": null,
   "id": "3936c781-60c1-4df7-9aad-63c1fc2638c6",
   "metadata": {
    "id": "3936c781-60c1-4df7-9aad-63c1fc2638c6",
    "outputId": "d72cbc48-3cba-4d2f-91f2-68ffc4bdcc2f"
   },
   "outputs": [
    {
     "name": "stdout",
     "output_type": "stream",
     "text": [
      "Hello-1-2-5\n"
     ]
    }
   ],
   "source": [
    "print(\"Hello\",1,2,\"5\",sep=\"-\")"
   ]
  },
  {
   "cell_type": "code",
   "execution_count": null,
   "id": "290ab0f3-dce1-4258-a69b-aef18b64a070",
   "metadata": {
    "id": "290ab0f3-dce1-4258-a69b-aef18b64a070",
    "outputId": "c50c954d-52f2-4ab7-b4ba-fdad503357fd"
   },
   "outputs": [
    {
     "name": "stdout",
     "output_type": "stream",
     "text": [
      "1\n",
      "2\n"
     ]
    }
   ],
   "source": [
    "print(\"1\")\n",
    "print(\"2\")"
   ]
  },
  {
   "cell_type": "markdown",
   "id": "e500df6f-1720-4022-986b-8c9d663767c8",
   "metadata": {
    "id": "e500df6f-1720-4022-986b-8c9d663767c8"
   },
   "source": [
    "<p style=\"color:green; font-size:18px;\"> 1 and 2 are in different line right?\n",
    "\n",
    "*   List item\n",
    "*   List item\n",
    "\n",
    "This is because of 'end' parameter and its default value is '\\n' which is newline character</p>"
   ]
  },
  {
   "cell_type": "code",
   "execution_count": null,
   "id": "c60cf463-6267-4270-9fdb-adf19478c5f7",
   "metadata": {
    "id": "c60cf463-6267-4270-9fdb-adf19478c5f7",
    "outputId": "58dfc95b-0f4d-43d0-b32d-c8ec4a8e1272"
   },
   "outputs": [
    {
     "name": "stdout",
     "output_type": "stream",
     "text": [
      "1 2\n"
     ]
    }
   ],
   "source": [
    "print(1,end=\" \")\n",
    "print(2)"
   ]
  },
  {
   "cell_type": "markdown",
   "id": "b3b25cd3-e6a6-4e29-943c-83e2a95ea1e1",
   "metadata": {
    "id": "b3b25cd3-e6a6-4e29-943c-83e2a95ea1e1",
    "jp-MarkdownHeadingCollapsed": true
   },
   "source": [
    "## 2. Data types\n",
    "- Integer\n",
    "- decimal/float\n",
    "- boolean\n",
    "- string\n",
    "- complex numbers\n",
    "- List\n",
    "- Tuples\n",
    "- set\n",
    "- Dict"
   ]
  },
  {
   "cell_type": "code",
   "execution_count": null,
   "id": "f8a46cfe-836c-45fd-83f9-7440767df344",
   "metadata": {
    "id": "f8a46cfe-836c-45fd-83f9-7440767df344",
    "outputId": "ef1a7e57-93bc-4b62-94a6-f161f13eee6b"
   },
   "outputs": [
    {
     "name": "stdout",
     "output_type": "stream",
     "text": [
      "<class 'int'>\n"
     ]
    }
   ],
   "source": [
    "print(type(8))"
   ]
  },
  {
   "cell_type": "code",
   "execution_count": null,
   "id": "c8e1b50c-59ac-496c-a6c2-a53ea91e4572",
   "metadata": {
    "id": "c8e1b50c-59ac-496c-a6c2-a53ea91e4572",
    "outputId": "68c3dc4a-97ce-4af3-9098-24b5a8dd5e9a"
   },
   "outputs": [
    {
     "name": "stdout",
     "output_type": "stream",
     "text": [
      "<class 'float'>\n"
     ]
    }
   ],
   "source": [
    "print(type(7.5))"
   ]
  },
  {
   "cell_type": "code",
   "execution_count": null,
   "id": "2bf341cd-8cff-4dd5-94be-7d92b614d74a",
   "metadata": {
    "id": "2bf341cd-8cff-4dd5-94be-7d92b614d74a",
    "outputId": "8d5cf0ae-fc08-418e-eeb8-df6a7ea8c599"
   },
   "outputs": [
    {
     "name": "stdout",
     "output_type": "stream",
     "text": [
      "<class 'bool'>\n"
     ]
    }
   ],
   "source": [
    "print(type(True))"
   ]
  },
  {
   "cell_type": "code",
   "execution_count": null,
   "id": "ec1c6d13-4799-4af1-bbda-da72857f0110",
   "metadata": {
    "id": "ec1c6d13-4799-4af1-bbda-da72857f0110",
    "outputId": "19b4bb22-c65f-4360-9506-948a5a5566c8"
   },
   "outputs": [
    {
     "name": "stdout",
     "output_type": "stream",
     "text": [
      "<class 'str'>\n"
     ]
    }
   ],
   "source": [
    "print(type(\"Anjisnu\"))"
   ]
  },
  {
   "cell_type": "code",
   "execution_count": null,
   "id": "c05e1213-2550-41c5-80ab-bb648d58e2f4",
   "metadata": {
    "id": "c05e1213-2550-41c5-80ab-bb648d58e2f4",
    "outputId": "8b2440dc-b1f7-4932-f964-8c3377e871b9"
   },
   "outputs": [
    {
     "name": "stdout",
     "output_type": "stream",
     "text": [
      "<class 'list'>\n"
     ]
    }
   ],
   "source": [
    "print(type([1,2,3]))"
   ]
  },
  {
   "cell_type": "code",
   "execution_count": null,
   "id": "f17b1fcb-e52e-452a-be2d-253fab9fd6d2",
   "metadata": {
    "id": "f17b1fcb-e52e-452a-be2d-253fab9fd6d2",
    "outputId": "9da18d59-8e53-455f-eaa9-316bcd1d9210"
   },
   "outputs": [
    {
     "name": "stdout",
     "output_type": "stream",
     "text": [
      "<class 'tuple'>\n"
     ]
    }
   ],
   "source": [
    "print(type((1,2,3,4)))"
   ]
  },
  {
   "cell_type": "code",
   "execution_count": null,
   "id": "f54439e0-be3e-4307-b482-d4899d2678d0",
   "metadata": {
    "id": "f54439e0-be3e-4307-b482-d4899d2678d0",
    "outputId": "24a90d70-0f52-44ca-a113-ddec1a1ddd2d"
   },
   "outputs": [
    {
     "name": "stdout",
     "output_type": "stream",
     "text": [
      "<class 'set'>\n"
     ]
    }
   ],
   "source": [
    "print(type({1,2,3}))"
   ]
  },
  {
   "cell_type": "code",
   "execution_count": null,
   "id": "f1a41960-cac0-4e1a-9890-1b67949b7c94",
   "metadata": {
    "id": "f1a41960-cac0-4e1a-9890-1b67949b7c94",
    "outputId": "51282988-0272-4513-bc70-8a686e9e02e4"
   },
   "outputs": [
    {
     "name": "stdout",
     "output_type": "stream",
     "text": [
      "<class 'dict'>\n"
     ]
    }
   ],
   "source": [
    "print(type({'name' : 'Anjsnu','gender' : 'Male'}))"
   ]
  },
  {
   "cell_type": "markdown",
   "id": "69412691-d95f-455d-b4e5-2af6bcceccc4",
   "metadata": {
    "id": "69412691-d95f-455d-b4e5-2af6bcceccc4",
    "jp-MarkdownHeadingCollapsed": true
   },
   "source": [
    "## 3. Variables\n",
    "\n",
    "Variables are basically **containers** that store information for future use.\n",
    "\n",
    "When you create a variable, you don't always know exactly what the user or the program might store in it later — it can be a number, text, or almost anything.\n",
    "\n",
    "That’s why we use variables — to hold values that can change or be updated as needed.\n",
    "\n",
    "```python\n",
    "name = \"John\"      # A text value\n",
    "age = 25           # A number value\n",
    "price = 99.99      # A decimal value\n",
    "```\n",
    "<p style=\"color:green; font-size:18px;\"> The best part is you never need to specify the datatype of the variable</p>"
   ]
  },
  {
   "cell_type": "code",
   "execution_count": null,
   "id": "fd920fc6-3f6b-450f-aa4c-bf43973e610f",
   "metadata": {
    "id": "fd920fc6-3f6b-450f-aa4c-bf43973e610f",
    "outputId": "e2f05c09-85b3-4bdd-defd-bb24503c2f31"
   },
   "outputs": [
    {
     "name": "stdout",
     "output_type": "stream",
     "text": [
      "Anjisnu\n"
     ]
    }
   ],
   "source": [
    "name = \"Anjisnu\"\n",
    "print(name)"
   ]
  },
  {
   "cell_type": "code",
   "execution_count": null,
   "id": "ac51999e-2855-4505-993f-d8db3db819f8",
   "metadata": {
    "id": "ac51999e-2855-4505-993f-d8db3db819f8",
    "outputId": "27e3e0d4-97bc-4d80-8bf8-27f2fd114107"
   },
   "outputs": [
    {
     "name": "stdout",
     "output_type": "stream",
     "text": [
      "18\n"
     ]
    }
   ],
   "source": [
    "a=6\n",
    "b=12\n",
    "print(a+b)"
   ]
  },
  {
   "cell_type": "markdown",
   "id": "45a194c1-9840-4e9d-8b88-8e7a3fc1e915",
   "metadata": {
    "id": "45a194c1-9840-4e9d-8b88-8e7a3fc1e915"
   },
   "source": [
    "**Dynamic Typing**\n",
    "\n",
    "In Python, you don't need to tell the type of a variable when you create it. The **Python interpreter is smart enough** to figure out the type by looking at the value you assign.\n",
    "\n",
    "This is called **Dynamic Typing**.\n",
    "Example:\n",
    "\n",
    "```python\n",
    "x = 10        # Python knows this is an integer\n",
    "x = \"Hello\"   # Now, Python knows this is a string\n",
    "x = 3.14      # Now, it's a float\n",
    "```\n",
    "\n",
    "**Dynamic Binding**\n",
    "  \n",
    "It means that the actual value (or type) of a variable is decided at runtime, not at the time of writing the code.\n",
    "\n",
    "In simple terms, the connection between the variable name and its actual object/value happens when the program is running.\n",
    "\n",
    "```python\n",
    "def greet(name):\n",
    "    print(\"Hello,\", name)\n",
    "\n",
    "greet(\"John\")   # 'name' is bound to the string 'John' at runtime\n",
    "greet(123)      # 'name' is bound to the integer 123 at runtime\n"
   ]
  },
  {
   "cell_type": "code",
   "execution_count": null,
   "id": "fb04107c-b4c2-4533-8ca9-ef0b9f1c9ca1",
   "metadata": {
    "id": "fb04107c-b4c2-4533-8ca9-ef0b9f1c9ca1",
    "outputId": "d14ee253-1133-4af3-ba6f-b1b9396adda3"
   },
   "outputs": [
    {
     "name": "stdout",
     "output_type": "stream",
     "text": [
      "1 2 3\n"
     ]
    }
   ],
   "source": [
    "a,b,c=1,2,3\n",
    "print(a,b,c)"
   ]
  },
  {
   "cell_type": "code",
   "execution_count": null,
   "id": "eb016c16-7171-4488-aa2b-bbbf9a43b939",
   "metadata": {
    "id": "eb016c16-7171-4488-aa2b-bbbf9a43b939",
    "outputId": "39f04d86-3beb-462f-e277-870cdce114c9"
   },
   "outputs": [
    {
     "name": "stdout",
     "output_type": "stream",
     "text": [
      "5 5 5\n"
     ]
    }
   ],
   "source": [
    "a=b=c=5\n",
    "print(a,b,c)"
   ]
  },
  {
   "cell_type": "markdown",
   "id": "8009b7d1-9df7-4bcf-8180-6f98b2c71d54",
   "metadata": {
    "id": "8009b7d1-9df7-4bcf-8180-6f98b2c71d54"
   },
   "source": [
    "## 4. Keywords & Identifiers\n",
    "\n",
    "\n",
    "**Keywords**\n",
    "\n",
    "Keywords are the **reserved words** in Python that have special meaning. You **cannot** use them as variable names, function names, or identifiers.\n",
    "\n",
    "They are part of the Python language syntax itself.\n",
    "\n",
    "**Example of Keywords:**\n",
    "\n",
    "```python\n",
    "if = 10    # ❌ Invalid - 'if' is a keyword\n",
    "```\n",
    "\n",
    "**What are Identifiers?**\n",
    "\n",
    "**Identifiers** are the names you assign to:\n",
    "\n",
    "- Variables  \n",
    "- Functions  \n",
    "- Classes  \n",
    "- Modules  \n",
    "- Objects  \n",
    "\n",
    "They are used to uniquely identify different parts of your code.\n",
    "\n",
    "---\n",
    "\n",
    "**Rules for Writing Identifiers:**\n",
    "\n",
    "Can contain **letters (A-Z, a-z)**, **digits (0-9)**, and **underscores `_`**  \n",
    "**Cannot start with a digit**  \n",
    "**Cannot be a Python keyword**  \n",
    "Are **case-sensitive** (`Name` and `name` are different)  \n",
    "\n",
    "---\n",
    "\n",
    "**Examples of Valid Identifiers:**\n",
    "\n",
    "```python\n",
    "name = \"Alice\"\n",
    "age = 30\n",
    "_total = 100\n",
    "userName = \"John\"\n",
    "price2 = 49.99\n"
   ]
  },
  {
   "cell_type": "code",
   "execution_count": null,
   "id": "281e3c4a-e090-4a1b-9b77-fea24f3a7f79",
   "metadata": {
    "id": "281e3c4a-e090-4a1b-9b77-fea24f3a7f79",
    "outputId": "23f98eef-62b2-4bcb-cb9a-a1d5c3be9008"
   },
   "outputs": [
    {
     "ename": "SyntaxError",
     "evalue": "invalid syntax (1330624585.py, line 2)",
     "output_type": "error",
     "traceback": [
      "\u001b[0;36m  Cell \u001b[0;32mIn[46], line 2\u001b[0;36m\u001b[0m\n\u001b[0;31m    if=10\u001b[0m\n\u001b[0m      ^\u001b[0m\n\u001b[0;31mSyntaxError\u001b[0m\u001b[0;31m:\u001b[0m invalid syntax\n"
     ]
    }
   ],
   "source": [
    "# error\n",
    "if=10"
   ]
  },
  {
   "cell_type": "code",
   "execution_count": null,
   "id": "1fc08fcf-6ec2-42ae-a52a-ff05f58a42c9",
   "metadata": {
    "id": "1fc08fcf-6ec2-42ae-a52a-ff05f58a42c9",
    "outputId": "d6b65712-4ffa-494e-ed54-2c858c649850"
   },
   "outputs": [
    {
     "name": "stdout",
     "output_type": "stream",
     "text": [
      "name :  Anjisnu \n",
      " Name :  roy\n"
     ]
    }
   ],
   "source": [
    "# Case sensitive\n",
    "name=\"Anjisnu\"\n",
    "Name=\"roy\"\n",
    "print(\"name : \", name ,\"\\n\", \"Name : \", Name)"
   ]
  },
  {
   "cell_type": "markdown",
   "id": "01344058-2c30-42c1-9b72-b1234fbd77ef",
   "metadata": {
    "id": "01344058-2c30-42c1-9b72-b1234fbd77ef",
    "jp-MarkdownHeadingCollapsed": true
   },
   "source": [
    "## 5. User Input"
   ]
  },
  {
   "cell_type": "code",
   "execution_count": null,
   "id": "a9bbc2bf-8df6-46e5-8ce0-954a09a824ad",
   "metadata": {
    "id": "a9bbc2bf-8df6-46e5-8ce0-954a09a824ad",
    "outputId": "24626c39-c651-4952-f724-b038f8ebd1c8"
   },
   "outputs": [
    {
     "name": "stdin",
     "output_type": "stream",
     "text": [
      "What is your name Anjisnu\n"
     ]
    }
   ],
   "source": [
    "Name = input(\"What is your name\")"
   ]
  },
  {
   "cell_type": "code",
   "execution_count": null,
   "id": "4359156e-e2d8-4022-8de9-e537bb07d303",
   "metadata": {
    "id": "4359156e-e2d8-4022-8de9-e537bb07d303",
    "outputId": "67b7a5e5-b083-4a44-8f09-2f2ce4c9a249"
   },
   "outputs": [
    {
     "name": "stdout",
     "output_type": "stream",
     "text": [
      "Anjisnu\n"
     ]
    }
   ],
   "source": [
    "print(Name)"
   ]
  },
  {
   "cell_type": "code",
   "execution_count": null,
   "id": "078f1939-9b9a-4e34-ae0f-5b98297790ad",
   "metadata": {
    "id": "078f1939-9b9a-4e34-ae0f-5b98297790ad",
    "outputId": "1a425908-d97f-4994-8ab3-e8e3d702fa71"
   },
   "outputs": [
    {
     "name": "stdin",
     "output_type": "stream",
     "text": [
      "Enter one number 3\n",
      "Enter 2nd number 12\n"
     ]
    },
    {
     "name": "stdout",
     "output_type": "stream",
     "text": [
      "312\n"
     ]
    }
   ],
   "source": [
    "a=input(\"Enter one number\")\n",
    "b=input(\"Enter 2nd number\")\n",
    "print(a+b)"
   ]
  },
  {
   "cell_type": "markdown",
   "id": "adce5345-020a-4517-be83-0cc6c5684cab",
   "metadata": {
    "id": "adce5345-020a-4517-be83-0cc6c5684cab"
   },
   "source": [
    "<p style=\"color:orange; font-size:16px;\">\n",
    "When we take input from the user using <code>input()</code>, it is always stored as a <b>string</b>.  \n",
    "This is because <b>string</b> is a universal data format — it can represent letters, numbers, symbols, anything!As solution we need to typecast the data type to int or something for mathematical operations\n",
    "</p>"
   ]
  },
  {
   "cell_type": "code",
   "execution_count": null,
   "id": "53d33745-8eb0-404f-ae61-6a23296345a9",
   "metadata": {
    "id": "53d33745-8eb0-404f-ae61-6a23296345a9",
    "outputId": "c8b4f6a9-35e8-485f-87a6-0bbe34b68926"
   },
   "outputs": [
    {
     "name": "stdin",
     "output_type": "stream",
     "text": [
      "Enter one number 3\n",
      "Enter 2nd number 4\n"
     ]
    },
    {
     "name": "stdout",
     "output_type": "stream",
     "text": [
      "7\n"
     ]
    }
   ],
   "source": [
    "a=input(\"Enter one number\")\n",
    "b=input(\"Enter 2nd number\")\n",
    "print(int(a)+int(b))"
   ]
  },
  {
   "cell_type": "markdown",
   "id": "013d122f-6d74-43bd-807d-1f4f6458921a",
   "metadata": {
    "id": "013d122f-6d74-43bd-807d-1f4f6458921a",
    "jp-MarkdownHeadingCollapsed": true
   },
   "source": [
    "## 6. Typecasting\n",
    "\n",
    "- It is of two types:\n",
    "  - Implicit : Which python automatically handle by himself\n",
    "  - explicit :  where we need to convert manually"
   ]
  },
  {
   "cell_type": "code",
   "execution_count": null,
   "id": "393c1211-d326-479d-98e0-051fb0956fb2",
   "metadata": {
    "id": "393c1211-d326-479d-98e0-051fb0956fb2",
    "outputId": "75b30e0e-87ae-4628-e60c-11b92e9b7ba0"
   },
   "outputs": [
    {
     "name": "stdout",
     "output_type": "stream",
     "text": [
      "<class 'float'>\n"
     ]
    }
   ],
   "source": [
    "# IMplicit example\n",
    "a=4+6.5\n",
    "print(type(a))"
   ]
  },
  {
   "cell_type": "code",
   "execution_count": null,
   "id": "0f6a03e4-11a3-47d8-b269-606041171eae",
   "metadata": {
    "id": "0f6a03e4-11a3-47d8-b269-606041171eae"
   },
   "outputs": [],
   "source": [
    "# explicit\n"
   ]
  },
  {
   "cell_type": "code",
   "execution_count": null,
   "id": "3c176a19-02c3-4e4d-9176-eee2e87758b4",
   "metadata": {
    "id": "3c176a19-02c3-4e4d-9176-eee2e87758b4",
    "outputId": "79f47d47-2fc6-4a2f-b0e5-6f7ada936f3b"
   },
   "outputs": [
    {
     "name": "stdin",
     "output_type": "stream",
     "text": [
      "Enter one number 8\n",
      "Enter 2nd number 9\n"
     ]
    },
    {
     "name": "stdout",
     "output_type": "stream",
     "text": [
      "17\n"
     ]
    }
   ],
   "source": [
    "a=input(\"Enter one number\")\n",
    "b=input(\"Enter 2nd number\")\n",
    "print(int(a)+int(b))"
   ]
  },
  {
   "cell_type": "markdown",
   "id": "4a953622-1a2a-41cb-82ff-c7423995bc96",
   "metadata": {
    "id": "4a953622-1a2a-41cb-82ff-c7423995bc96"
   },
   "source": [
    "<p style=\"color: red; font-size: 18px\">What will be the datatype of 'a' and 'b' now? it will be int cause we typecasted?</p>"
   ]
  },
  {
   "cell_type": "code",
   "execution_count": null,
   "id": "3fd36a80-5f4d-4bd2-b83d-8b4610f5d9c2",
   "metadata": {
    "id": "3fd36a80-5f4d-4bd2-b83d-8b4610f5d9c2",
    "outputId": "96dd38bb-d22e-4787-f9e3-870192fa49a5"
   },
   "outputs": [
    {
     "data": {
      "text/plain": [
       "str"
      ]
     },
     "execution_count": 63,
     "metadata": {},
     "output_type": "execute_result"
    }
   ],
   "source": [
    "type(a)"
   ]
  },
  {
   "cell_type": "markdown",
   "id": "4e1f1fc2-dac1-4b4f-b1b7-033085153bf3",
   "metadata": {
    "id": "4e1f1fc2-dac1-4b4f-b1b7-033085153bf3"
   },
   "source": [
    "<p style=\"color: green;font-size: 18px\">It is still string just because we havent stored the typecasted variable in original</p>"
   ]
  },
  {
   "cell_type": "markdown",
   "id": "f58832f5-3aeb-41b0-93b3-802cd41fabf0",
   "metadata": {
    "id": "f58832f5-3aeb-41b0-93b3-802cd41fabf0",
    "jp-MarkdownHeadingCollapsed": true
   },
   "source": [
    "## 7. Literals"
   ]
  },
  {
   "cell_type": "markdown",
   "id": "b862b6d2-43ff-4ad6-91a0-cb06094024d5",
   "metadata": {
    "id": "b862b6d2-43ff-4ad6-91a0-cb06094024d5"
   },
   "source": [
    "**What are Literals?**\n",
    "\n",
    "In Python, **Literals** are the fixed values or constant values that you write directly in your code.  \n",
    "\n",
    "They represent the actual data, not variables or functions.\n",
    "\n",
    "**Types of Literals in Python**\n",
    "\n",
    "| Type            | Example                  | Description                                    |\n",
    "|-----------------|--------------------------|------------------------------------------------|\n",
    "| **String Literal**  | `\"Hello\"`, `'Python'`   | Text enclosed in single or double quotes.      |\n",
    "| **Integer Literal** | `10`, `-5`, `1000`      | Whole numbers, positive or negative.           |\n",
    "| **Float Literal**   | `3.14`, `-0.5`, `2.0`   | Numbers with decimal points.                   |\n",
    "| **Boolean Literal** | `True`, `False`         | Represents truth values.                       |\n",
    "| **None Literal**    | `None`                  | Represents \"nothing\" or \"no value\".            |\n",
    "\n",
    "\n",
    "**Example Code:**\n",
    "\n",
    "```python\n",
    "# String Literal\n",
    "name = \"Alice\"\n",
    "\n",
    "# Integer Literal\n",
    "age = 25\n",
    "\n",
    "# Float Literal\n",
    "price = 49.99\n",
    "\n",
    "# Boolean Literal\n",
    "is_active = True\n",
    "\n",
    "# None Literal\n",
    "data = None\n"
   ]
  },
  {
   "cell_type": "code",
   "execution_count": null,
   "id": "98c62891-93b8-4878-8456-c5789c2c6d5e",
   "metadata": {
    "id": "98c62891-93b8-4878-8456-c5789c2c6d5e"
   },
   "outputs": [],
   "source": [
    "name = \"Anjisnu\" # This is a constant value with no varriable this is a literal"
   ]
  },
  {
   "cell_type": "code",
   "execution_count": null,
   "id": "e96ecc9c-1aab-4844-9bcf-d8900a5e08f8",
   "metadata": {
    "id": "e96ecc9c-1aab-4844-9bcf-d8900a5e08f8"
   },
   "outputs": [],
   "source": [
    "2*x+3 # This is not literal cause the X is a variable and"
   ]
  },
  {
   "cell_type": "markdown",
   "id": "55174104-a939-4798-b555-4c920217c7f9",
   "metadata": {
    "id": "55174104-a939-4798-b555-4c920217c7f9"
   },
   "source": [
    "<p style=\"color: orange; font-size: 18px\" > what is the use of none? </p>"
   ]
  },
  {
   "cell_type": "code",
   "execution_count": null,
   "id": "6e77f9c5-9d7f-458c-917c-99062016cdbb",
   "metadata": {
    "id": "6e77f9c5-9d7f-458c-917c-99062016cdbb"
   },
   "outputs": [],
   "source": [
    "k=None"
   ]
  },
  {
   "cell_type": "markdown",
   "id": "305fcc90-353e-4361-893e-056d2dcde440",
   "metadata": {
    "id": "305fcc90-353e-4361-893e-056d2dcde440"
   },
   "source": [
    "<p style=\"color: green; font-size: 18px\">Suppose we don't know like how many varriables we actually need, so for that purpose we can create this as None and later on change with orignal values</p>"
   ]
  },
  {
   "cell_type": "code",
   "execution_count": null,
   "id": "5734d8a5-500f-4c32-80db-19d95f20b0ec",
   "metadata": {
    "id": "5734d8a5-500f-4c32-80db-19d95f20b0ec"
   },
   "outputs": [],
   "source": [
    "k=10"
   ]
  },
  {
   "cell_type": "code",
   "execution_count": null,
   "id": "626d2626-cfae-4f37-8cb1-e24cc6f3d038",
   "metadata": {
    "id": "626d2626-cfae-4f37-8cb1-e24cc6f3d038",
    "outputId": "29949814-b2b1-4231-ba6b-dad60d5e9d1a"
   },
   "outputs": [
    {
     "data": {
      "text/plain": [
       "10"
      ]
     },
     "execution_count": 71,
     "metadata": {},
     "output_type": "execute_result"
    }
   ],
   "source": [
    "k"
   ]
  },
  {
   "cell_type": "markdown",
   "id": "0atorK6v-eC8",
   "metadata": {
    "id": "0atorK6v-eC8",
    "jp-MarkdownHeadingCollapsed": true
   },
   "source": [
    "## 8. Operators"
   ]
  },
  {
   "cell_type": "markdown",
   "id": "5Ijho_V_-jlE",
   "metadata": {
    "id": "5Ijho_V_-jlE"
   },
   "source": [
    "### Arithmatic Operators"
   ]
  },
  {
   "cell_type": "code",
   "execution_count": null,
   "id": "bdf5ff1c-054e-4914-a619-3ae847c71500",
   "metadata": {
    "colab": {
     "base_uri": "https://localhost:8080/"
    },
    "id": "bdf5ff1c-054e-4914-a619-3ae847c71500",
    "outputId": "e96634aa-0888-4aa0-cd3c-7accd0195b2f"
   },
   "outputs": [
    {
     "name": "stdout",
     "output_type": "stream",
     "text": [
      "a+b = 15\n",
      "a-b = 5\n",
      "a*b = 50\n",
      "a/b = 2.0\n",
      "a%b = 0\n",
      "a^b = 100000\n"
     ]
    }
   ],
   "source": [
    "a= 10\n",
    "b=5\n",
    "print(\"a+b =\",a+b)\n",
    "print(\"a-b =\",a-b)\n",
    "print(\"a*b =\",a*b)\n",
    "print(\"a/b =\",a/b)\n",
    "print(\"a%b =\",a%b)\n",
    "print(\"a^b =\",a**b)"
   ]
  },
  {
   "cell_type": "markdown",
   "id": "LT-47q30--8v",
   "metadata": {
    "id": "LT-47q30--8v"
   },
   "source": [
    "### Relational Operators"
   ]
  },
  {
   "cell_type": "code",
   "execution_count": null,
   "id": "eo3pXKCU9on0",
   "metadata": {
    "colab": {
     "base_uri": "https://localhost:8080/"
    },
    "id": "eo3pXKCU9on0",
    "outputId": "90070025-8a9c-4c5d-994e-7cdbbf23523f"
   },
   "outputs": [
    {
     "name": "stdout",
     "output_type": "stream",
     "text": [
      "False\n",
      "False\n",
      "True\n",
      "True\n"
     ]
    }
   ],
   "source": [
    "print(4==5)\n",
    "print(4>5)\n",
    "print(4<5)\n",
    "print(4!=5)"
   ]
  },
  {
   "cell_type": "markdown",
   "id": "kBLffSfj_OTx",
   "metadata": {
    "id": "kBLffSfj_OTx"
   },
   "source": [
    "### Logical Operators"
   ]
  },
  {
   "cell_type": "code",
   "execution_count": null,
   "id": "iQbvLGz_9oqX",
   "metadata": {
    "colab": {
     "base_uri": "https://localhost:8080/"
    },
    "id": "iQbvLGz_9oqX",
    "outputId": "331a1c24-3610-415c-977f-1127af346323"
   },
   "outputs": [
    {
     "name": "stdout",
     "output_type": "stream",
     "text": [
      "0\n",
      "1\n",
      "False\n"
     ]
    }
   ],
   "source": [
    "print(1 and 0)\n",
    "print(1 or 0)\n",
    "print(not 1)"
   ]
  },
  {
   "cell_type": "markdown",
   "id": "rUKJxShc_iD5",
   "metadata": {
    "id": "rUKJxShc_iD5"
   },
   "source": [
    "### Bitwise Operators"
   ]
  },
  {
   "cell_type": "code",
   "execution_count": null,
   "id": "WCsVQolP9os-",
   "metadata": {
    "colab": {
     "base_uri": "https://localhost:8080/"
    },
    "id": "WCsVQolP9os-",
    "outputId": "02f2ac8a-a1d5-4082-ae4e-bd69a0e5a6de"
   },
   "outputs": [
    {
     "name": "stdout",
     "output_type": "stream",
     "text": [
      "2\n",
      "3\n",
      "1\n",
      "-4\n",
      "1\n",
      "16\n"
     ]
    }
   ],
   "source": [
    "# Bitwise and\n",
    "print(2 & 3)\n",
    "#Bitwise or\n",
    "print(2 | 3)\n",
    "#Bitwse Xor\n",
    "print(2 ^ 3)\n",
    "# Bitwise not\n",
    "print(~3)\n",
    "\n",
    "#Bitwise left shift\n",
    "print(4>>2) # Shift 4 left by 2 bits\n",
    "\n",
    "#Bitwise Right shift\n",
    "print(4<<2)"
   ]
  },
  {
   "cell_type": "markdown",
   "id": "dDXGH1_BAw-b",
   "metadata": {
    "id": "dDXGH1_BAw-b"
   },
   "source": [
    "### Assignment Operators"
   ]
  },
  {
   "cell_type": "code",
   "execution_count": null,
   "id": "X7RPJ_T7AwPE",
   "metadata": {
    "colab": {
     "base_uri": "https://localhost:8080/"
    },
    "id": "X7RPJ_T7AwPE",
    "outputId": "fbe274a2-4fa0-48e0-c24e-67560e438068"
   },
   "outputs": [
    {
     "name": "stdout",
     "output_type": "stream",
     "text": [
      "20\n"
     ]
    }
   ],
   "source": [
    "a = 10 # = is assignment operator\n",
    "a += 10 # a = a + 10\n",
    "print(a)\n",
    "\n"
   ]
  },
  {
   "cell_type": "markdown",
   "id": "2nXu1ao_BOcm",
   "metadata": {
    "id": "2nXu1ao_BOcm"
   },
   "source": [
    "<p style=\"color:red\">No increment decrement operator is here in Python</p>  <!-- Will show as plain black text -->"
   ]
  },
  {
   "cell_type": "markdown",
   "id": "TuNM8NXgA3NI",
   "metadata": {
    "id": "TuNM8NXgA3NI"
   },
   "source": [
    "### Membership Operator"
   ]
  },
  {
   "cell_type": "code",
   "execution_count": null,
   "id": "gxkyPbtx9ovV",
   "metadata": {
    "colab": {
     "base_uri": "https://localhost:8080/"
    },
    "id": "gxkyPbtx9ovV",
    "outputId": "1335fc79-ba9c-4507-b62a-cf76597118a6"
   },
   "outputs": [
    {
     "name": "stdout",
     "output_type": "stream",
     "text": [
      "True\n",
      "True\n",
      "False\n"
     ]
    }
   ],
   "source": [
    "# in/not in\n",
    "\n",
    "print('D' in 'Delhi')\n",
    "print('d' not in 'Delhi')\n",
    "print(1 in [2,3,4,5,6])"
   ]
  },
  {
   "cell_type": "markdown",
   "id": "4L7Ws16CCjGA",
   "metadata": {
    "id": "4L7Ws16CCjGA",
    "jp-MarkdownHeadingCollapsed": true
   },
   "source": [
    "## Problem 1 : Get a number from User and find some of digit"
   ]
  },
  {
   "cell_type": "code",
   "execution_count": null,
   "id": "ITANT2mN9oyL",
   "metadata": {
    "colab": {
     "base_uri": "https://localhost:8080/"
    },
    "id": "ITANT2mN9oyL",
    "outputId": "0c863b4d-e1ce-4221-c329-1d9a858f9d5d"
   },
   "outputs": [
    {
     "name": "stdout",
     "output_type": "stream",
     "text": [
      "Enter a number345\n",
      "12\n"
     ]
    }
   ],
   "source": [
    "num = input(\"Enter a number\")\n",
    "num=int(num)\n",
    "sum = 0\n",
    "while(num!=0):\n",
    "  sum+=num%10\n",
    "  num=num/10\n",
    "  num=int(num)\n",
    "\n",
    "print(sum)\n"
   ]
  },
  {
   "cell_type": "markdown",
   "id": "A2OSvzHjFS9T",
   "metadata": {
    "id": "A2OSvzHjFS9T",
    "jp-MarkdownHeadingCollapsed": true
   },
   "source": [
    "## 9. If-else"
   ]
  },
  {
   "cell_type": "code",
   "execution_count": null,
   "id": "m5O0k5g99o0Q",
   "metadata": {
    "colab": {
     "base_uri": "https://localhost:8080/"
    },
    "id": "m5O0k5g99o0Q",
    "outputId": "3b92bd19-b8c9-480a-a329-2e4df58f2220"
   },
   "outputs": [
    {
     "name": "stdout",
     "output_type": "stream",
     "text": [
      "Enter your mail id: admin@anjisnu.com\n",
      "Enter your password: 1235\n",
      "You entered correct mail but wrong pass,your last try is: \n",
      "Enter correct password1234\n",
      "Welcome user\n"
     ]
    }
   ],
   "source": [
    "'''\n",
    " correct mail is : admin@anjisnu.com\n",
    " correct pass is : 1234\n",
    "'''\n",
    "\n",
    "mail=input(\"Enter your mail id: \")\n",
    "password = input(\"Enter your password: \")\n",
    "\n",
    "if(mail==\"admin@anjisnu.com\" and password==\"1234\"):\n",
    "  print(\"Welcome user\")\n",
    "elif(mail==\"admin@anjisnu.com\" and password!=\"1234\"):\n",
    "  print(\"You entered correct mail but wrong pass,your last try is: \")\n",
    "  new_pass=input(\"Enter correct password\")\n",
    "  if(new_pass==\"1234\"):\n",
    "    print(\"Welcome user\")\n",
    "  else:\n",
    "    print(\"You entered wrong password again\")\n",
    "else:\n",
    "  print(\"Invalid credentials\")"
   ]
  },
  {
   "cell_type": "markdown",
   "id": "YRhYbML6HlQp",
   "metadata": {
    "id": "YRhYbML6HlQp",
    "jp-MarkdownHeadingCollapsed": true
   },
   "source": [
    "## Problem 2: User will give 3 numbers,You have to print min number using if-els"
   ]
  },
  {
   "cell_type": "code",
   "execution_count": null,
   "id": "iHiDncTOFu01",
   "metadata": {
    "colab": {
     "base_uri": "https://localhost:8080/"
    },
    "id": "iHiDncTOFu01",
    "outputId": "70f5b312-ba29-4df5-bd84-529312977bb2"
   },
   "outputs": [
    {
     "name": "stdout",
     "output_type": "stream",
     "text": [
      "Enter your number 1 :90\n",
      "Enter your number 2 :78\n",
      "Enter your number 3 :9\n",
      "Smallest is  9\n"
     ]
    }
   ],
   "source": [
    "num1=int(input(\"Enter your number 1 :\"))\n",
    "num2=int(input(\"Enter your number 2 :\"))\n",
    "num3=int(input(\"Enter your number 3 :\"))\n",
    "\n",
    "if(num1<=num2 and num1<=num3):\n",
    "  print(\"Smallest is \",num1)\n",
    "elif(num2<=num1 and num2<=num3):\n",
    "  print(\"Smallest is \",num2)\n",
    "else:\n",
    "    print(\"Smallest is \",num3)\n"
   ]
  },
  {
   "cell_type": "markdown",
   "id": "HMz3gfCSKPK-",
   "metadata": {
    "id": "HMz3gfCSKPK-",
    "jp-MarkdownHeadingCollapsed": true
   },
   "source": [
    "## 10. Modules\n",
    "- math\n",
    "- constant\n",
    "- random\n",
    "- Keywords"
   ]
  },
  {
   "cell_type": "code",
   "execution_count": 33,
   "id": "Nb5fKBPpICYU",
   "metadata": {
    "id": "Nb5fKBPpICYU"
   },
   "outputs": [],
   "source": [
    "import math"
   ]
  },
  {
   "cell_type": "code",
   "execution_count": 45,
   "id": "ZqW8wxmMKjZV",
   "metadata": {
    "colab": {
     "base_uri": "https://localhost:8080/",
     "height": 0
    },
    "id": "ZqW8wxmMKjZV",
    "outputId": "d40d8fe8-1abe-40b2-cbb0-3259f3b61f9a"
   },
   "outputs": [
    {
     "name": "stdout",
     "output_type": "stream",
     "text": [
      "To check base value : 4\n",
      "To check upper value : 5\n",
      "To check square root: 4.0\n"
     ]
    }
   ],
   "source": [
    "print(\"To check base value :\",math.floor(4.67))\n",
    "print(\"To check upper value :\",math.ceil(4.67))\n",
    "print(\"To check square root:\",math.sqrt(16))"
   ]
  },
  {
   "cell_type": "markdown",
   "id": "MmCVrTxLTC5d",
   "metadata": {
    "id": "MmCVrTxLTC5d"
   },
   "source": [
    "kwlist will list all the keyword present in python\n"
   ]
  },
  {
   "cell_type": "code",
   "execution_count": 46,
   "id": "Ox3blIU6MSYj",
   "metadata": {
    "colab": {
     "base_uri": "https://localhost:8080/",
     "height": 0
    },
    "id": "Ox3blIU6MSYj",
    "outputId": "cb44a81e-7618-4372-f0e3-e8e67aa15585"
   },
   "outputs": [
    {
     "name": "stdout",
     "output_type": "stream",
     "text": [
      "['False', 'None', 'True', 'and', 'as', 'assert', 'async', 'await', 'break', 'class', 'continue', 'def', 'del', 'elif', 'else', 'except', 'finally', 'for', 'from', 'global', 'if', 'import', 'in', 'is', 'lambda', 'nonlocal', 'not', 'or', 'pass', 'raise', 'return', 'try', 'while', 'with', 'yield']\n"
     ]
    }
   ],
   "source": [
    "import keyword\n",
    "print(keyword.kwlist)"
   ]
  },
  {
   "cell_type": "code",
   "execution_count": 47,
   "id": "U0XY5tb3TCFE",
   "metadata": {
    "colab": {
     "base_uri": "https://localhost:8080/",
     "height": 0
    },
    "id": "U0XY5tb3TCFE",
    "outputId": "86fb4d66-6eeb-442d-ec81-a9baff56d890"
   },
   "outputs": [
    {
     "name": "stdout",
     "output_type": "stream",
     "text": [
      "35\n"
     ]
    }
   ],
   "source": [
    "print(len(keyword.kwlist))"
   ]
  },
  {
   "cell_type": "code",
   "execution_count": 48,
   "id": "ec5gCUy1TXg9",
   "metadata": {
    "colab": {
     "base_uri": "https://localhost:8080/",
     "height": 0
    },
    "id": "ec5gCUy1TXg9",
    "outputId": "fa611a09-0438-4a6d-8c5b-4927403011e0"
   },
   "outputs": [
    {
     "name": "stdout",
     "output_type": "stream",
     "text": [
      "834112\n"
     ]
    }
   ],
   "source": [
    "import random\n",
    "print(random.randint(000000,999999))"
   ]
  },
  {
   "cell_type": "code",
   "execution_count": 49,
   "id": "78NMZbIkUB4o",
   "metadata": {
    "colab": {
     "base_uri": "https://localhost:8080/",
     "height": 0
    },
    "id": "78NMZbIkUB4o",
    "outputId": "79169715-93bf-44d1-f75c-53434949b8c3"
   },
   "outputs": [
    {
     "name": "stdout",
     "output_type": "stream",
     "text": [
      "2025-07-11 11:48:59.642898\n"
     ]
    }
   ],
   "source": [
    "import datetime\n",
    "print(datetime.datetime.now())"
   ]
  },
  {
   "cell_type": "markdown",
   "id": "Io-XU23BUlCa",
   "metadata": {
    "id": "Io-XU23BUlCa",
    "jp-MarkdownHeadingCollapsed": true
   },
   "source": [
    "## 11. Loops\n",
    "- For loop\n",
    "- While loop"
   ]
  },
  {
   "cell_type": "code",
   "execution_count": 51,
   "id": "ElUzN77-UTlZ",
   "metadata": {
    "colab": {
     "base_uri": "https://localhost:8080/",
     "height": 0
    },
    "id": "ElUzN77-UTlZ",
    "outputId": "24bb54c9-3f0a-407c-f471-004651beaac2"
   },
   "outputs": [
    {
     "name": "stdout",
     "output_type": "stream",
     "text": [
      "Enter a number20\n",
      "20 * 1 = 20\n",
      "20 * 2 = 40\n",
      "20 * 3 = 60\n",
      "20 * 4 = 80\n",
      "20 * 5 = 100\n",
      "20 * 6 = 120\n",
      "20 * 7 = 140\n",
      "20 * 8 = 160\n",
      "20 * 9 = 180\n",
      "20 * 10 = 200\n"
     ]
    }
   ],
   "source": [
    "# While loop to print a table\n",
    "num=int(input(\"Enter a number\"))\n",
    "\n",
    "i=1;\n",
    "while(i<=10):\n",
    "  print(num,\"*\",i,\"=\",num*i)\n",
    "  i+=1\n"
   ]
  },
  {
   "cell_type": "markdown",
   "id": "5bxbsJK0c9kU",
   "metadata": {
    "id": "5bxbsJK0c9kU"
   },
   "source": [
    "We can use **While with else**"
   ]
  },
  {
   "cell_type": "code",
   "execution_count": 52,
   "id": "k-F9EqhjUkXj",
   "metadata": {
    "colab": {
     "base_uri": "https://localhost:8080/",
     "height": 0
    },
    "id": "k-F9EqhjUkXj",
    "outputId": "cdf313d3-323b-4e34-9b0d-ec06c4c0a5f2"
   },
   "outputs": [
    {
     "name": "stdout",
     "output_type": "stream",
     "text": [
      "Kaam khatam\n"
     ]
    }
   ],
   "source": [
    "i=0;\n",
    "while(i<3):\n",
    "  i=i+1\n",
    "else:\n",
    "  print(\"Kaam khatam\")"
   ]
  },
  {
   "cell_type": "markdown",
   "id": "w7woqZH7dSmb",
   "metadata": {
    "id": "w7woqZH7dSmb",
    "jp-MarkdownHeadingCollapsed": true
   },
   "source": [
    "## Problem 3: Guessing Game"
   ]
  },
  {
   "cell_type": "code",
   "execution_count": 56,
   "id": "AQGO3omGUkaT",
   "metadata": {
    "colab": {
     "base_uri": "https://localhost:8080/",
     "height": 0
    },
    "id": "AQGO3omGUkaT",
    "outputId": "8ffbbd7f-9445-4bd6-c8fe-78020a6295ea"
   },
   "outputs": [
    {
     "name": "stdout",
     "output_type": "stream",
     "text": [
      "You have  0  Chances left: \n",
      "Guess the Jackpot number : 69\n",
      "Try again!\n",
      "You have  1  Chances left: \n",
      "Guess the Jackpot number : 96\n",
      "Try again!\n",
      "You have  2  Chances left: \n",
      "Guess the Jackpot number : 13\n",
      "Try again!\n",
      "You have  3  Chances left: \n",
      "Guess the Jackpot number : 19\n",
      "Hooray! you gussed it correct\n"
     ]
    }
   ],
   "source": [
    "Jackpot_num=random.randint(0,100)\n",
    "\n",
    "i=0\n",
    "while(i<5):\n",
    "  print(\"You have \",i,\" Chances left: \")\n",
    "  i=i+1\n",
    "  num=int(input(\"Guess the Jackpot number : \"))\n",
    "  if(num==Jackpot_num):\n",
    "    print(\"Hooray! you gussed it correct\")\n",
    "    break;\n",
    "\n",
    "  else:\n",
    "    print(\"Try again!\")\n",
    "else:\n",
    "  print(\"Try again in another life! Correct answer is: \", Jackpot_num)"
   ]
  },
  {
   "cell_type": "code",
   "execution_count": 64,
   "id": "nKD0IpwEUkc3",
   "metadata": {
    "colab": {
     "base_uri": "https://localhost:8080/",
     "height": 0
    },
    "id": "nKD0IpwEUkc3",
    "outputId": "86db9e48-8398-4d5f-eb8a-2b17f3020fb3"
   },
   "outputs": [
    {
     "name": "stdout",
     "output_type": "stream",
     "text": [
      "1\n",
      "3\n"
     ]
    }
   ],
   "source": [
    "# For loop : range(1,5,2) : 1 included,5 excluded and 2 is step size. 1,3\n",
    "\n",
    "for i in range(1,5,2):\n",
    "  print(i)"
   ]
  },
  {
   "cell_type": "code",
   "execution_count": 67,
   "id": "WCYEfqw3kLw-",
   "metadata": {
    "colab": {
     "base_uri": "https://localhost:8080/",
     "height": 0
    },
    "id": "WCYEfqw3kLw-",
    "outputId": "cf8240e2-443a-4b05-9da7-bb91d90d8b12"
   },
   "outputs": [
    {
     "name": "stdout",
     "output_type": "stream",
     "text": [
      "5\n",
      "4\n",
      "3\n",
      "2\n"
     ]
    }
   ],
   "source": [
    "# -1 means in reverse\n",
    "\n",
    "for i in range(5,1,-1):\n",
    "  print(i)"
   ]
  },
  {
   "cell_type": "markdown",
   "id": "fYBh8Uxcl7AS",
   "metadata": {
    "id": "fYBh8Uxcl7AS",
    "jp-MarkdownHeadingCollapsed": true
   },
   "source": [
    "## Program 4: 10,000 people stay there,10% increase at every year final population after 10 years"
   ]
  },
  {
   "cell_type": "code",
   "execution_count": 70,
   "id": "cWWMdjdqkRHE",
   "metadata": {
    "colab": {
     "base_uri": "https://localhost:8080/",
     "height": 0
    },
    "id": "cWWMdjdqkRHE",
    "outputId": "2f13eab9-e321-45ac-f268-e4a23c33e38e"
   },
   "outputs": [
    {
     "name": "stdout",
     "output_type": "stream",
     "text": [
      "25937.424601000006\n"
     ]
    }
   ],
   "source": [
    "real=10000\n",
    "for i in range(10):\n",
    "  real=real+real*0.1\n",
    "print(real)\n",
    "\n"
   ]
  },
  {
   "cell_type": "markdown",
   "id": "29d92fe4-aded-4b66-8571-6aa7970f7ada",
   "metadata": {
    "colab": {
     "base_uri": "https://localhost:8080/",
     "height": 0
    },
    "id": "TWnr9tS1mPzN",
    "jp-MarkdownHeadingCollapsed": true,
    "outputId": "df0ac415-3af4-402c-f637-16b2ed97df77"
   },
   "source": [
    "## Problem 5: Print the sequence result upto nth term\n",
    "1/1! + 2/2! + 3/3! .."
   ]
  },
  {
   "cell_type": "code",
   "execution_count": 3,
   "id": "41d94ec8-5976-4812-9b0c-ab445da7149d",
   "metadata": {},
   "outputs": [],
   "source": [
    "def fact(num: int)->int:\n",
    "    prod=1\n",
    "    while(num!=1):\n",
    "        prod*=num\n",
    "        num-=1\n",
    "    return prod\n",
    "        "
   ]
  },
  {
   "cell_type": "code",
   "execution_count": 13,
   "id": "a7a162b2-7eb2-4e8b-81b6-2c1cfcc56150",
   "metadata": {},
   "outputs": [
    {
     "name": "stdin",
     "output_type": "stream",
     "text": [
      "Enter the value of n 78\n"
     ]
    },
    {
     "name": "stdout",
     "output_type": "stream",
     "text": [
      "Final summation result of this sequence is: 2.72\n"
     ]
    }
   ],
   "source": [
    "inp=int(input(\"Enter the value of n\"))\n",
    "i=1\n",
    "su=0\n",
    "while(i<=inp):\n",
    "    su+=i/fact(i)\n",
    "    i+=1\n",
    "print(f\"Final summation result of this sequence is: {su:.2f}\")"
   ]
  },
  {
   "cell_type": "markdown",
   "id": "194f3ada-3922-4ce2-9fac-e309485d773d",
   "metadata": {
    "jp-MarkdownHeadingCollapsed": true
   },
   "source": [
    "## 12. Nested Loops"
   ]
  },
  {
   "cell_type": "markdown",
   "id": "7f43edc3-f5ad-4ad1-9462-1cc7e9321f43",
   "metadata": {},
   "source": [
    "Print all pairs from 1 to4"
   ]
  },
  {
   "cell_type": "code",
   "execution_count": 14,
   "id": "sIrpCSFxmQml",
   "metadata": {
    "id": "sIrpCSFxmQml"
   },
   "outputs": [
    {
     "name": "stdout",
     "output_type": "stream",
     "text": [
      "1 1\n",
      "1 2\n",
      "1 3\n",
      "1 4\n",
      "2 1\n",
      "2 2\n",
      "2 3\n",
      "2 4\n",
      "3 1\n",
      "3 2\n",
      "3 3\n",
      "3 4\n",
      "4 1\n",
      "4 2\n",
      "4 3\n",
      "4 4\n"
     ]
    }
   ],
   "source": [
    "for i in range(1,5):\n",
    "    for j in range(1,5):\n",
    "        print(i,j)"
   ]
  },
  {
   "cell_type": "markdown",
   "id": "213f2c3b-fe31-451c-9ce3-104ac86b03a1",
   "metadata": {},
   "source": [
    "### Print pattern"
   ]
  },
  {
   "cell_type": "raw",
   "id": "acbd5123-07aa-4df1-8fe7-7bda41ab815f",
   "metadata": {},
   "source": [
    "*\n",
    "* *\n",
    "* * *\n",
    " for n no of lines"
   ]
  },
  {
   "cell_type": "code",
   "execution_count": 24,
   "id": "b3040ec3-ffb5-4537-ba8b-a0088d34d044",
   "metadata": {},
   "outputs": [
    {
     "name": "stdin",
     "output_type": "stream",
     "text": [
      "Enter no of lines you want 5\n"
     ]
    },
    {
     "name": "stdout",
     "output_type": "stream",
     "text": [
      "* \n",
      "* * \n",
      "* * * \n",
      "* * * * \n",
      "* * * * * \n"
     ]
    }
   ],
   "source": [
    "inp=int(input(\"Enter no of lines you want\"))\n",
    "for i in range(0,inp):\n",
    "    for j in range(0,inp):\n",
    "        if(i>=j):\n",
    "            print(\"* \",end=\"\")\n",
    "    print(\"\")"
   ]
  },
  {
   "cell_type": "raw",
   "id": "da3118ac-248a-4a83-8fcd-f26cda75c227",
   "metadata": {},
   "source": [
    "1\n",
    "1 2 1\n",
    "1 2 3 2 1\n",
    "1 2 3 4 3 2 1"
   ]
  },
  {
   "cell_type": "code",
   "execution_count": 28,
   "id": "3f557383-b851-456f-bca4-ee29ff11027d",
   "metadata": {},
   "outputs": [
    {
     "name": "stdin",
     "output_type": "stream",
     "text": [
      "Enter no of lines you want 5\n"
     ]
    },
    {
     "name": "stdout",
     "output_type": "stream",
     "text": [
      "1 \n",
      "1 2 1 \n",
      "1 2 3 2 1 \n",
      "1 2 3 4 3 2 1 \n",
      "1 2 3 4 5 4 3 2 1 \n"
     ]
    }
   ],
   "source": [
    "inp=int(input(\"Enter no of lines you want\"))\n",
    "for i in range(1,inp+1):\n",
    "    for j in range(1,i+1):\n",
    "        print(j,end=\" \")\n",
    "    while(j!=1):\n",
    "        print(j-1,end=\" \")\n",
    "        j-=1\n",
    "    print(\"\")"
   ]
  },
  {
   "cell_type": "markdown",
   "id": "1c6f2706-6a16-4e5c-a311-abc9144d3e8b",
   "metadata": {
    "jp-MarkdownHeadingCollapsed": true
   },
   "source": [
    "## 13. Loop control System\n",
    "- break : when searching in a database then we can use this\n",
    "- continue\n",
    "- pass"
   ]
  },
  {
   "cell_type": "code",
   "execution_count": 31,
   "id": "819fd7ac-cee8-48eb-b18c-b6509f7e83b2",
   "metadata": {},
   "outputs": [
    {
     "name": "stdout",
     "output_type": "stream",
     "text": [
      "0\n",
      "1\n",
      "2\n",
      "3\n"
     ]
    }
   ],
   "source": [
    "for i in range(0,10):\n",
    "    if(i==4):\n",
    "        break\n",
    "    print(i)"
   ]
  },
  {
   "cell_type": "code",
   "execution_count": 40,
   "id": "2664842e-4e35-4507-a05a-9a18d9e77cfd",
   "metadata": {},
   "outputs": [
    {
     "name": "stdout",
     "output_type": "stream",
     "text": [
      "Value is 0\n",
      "Value is 2\n",
      "Value is 3\n",
      "Value is 4\n"
     ]
    }
   ],
   "source": [
    "# Continue : It skips that current iteration\n",
    "for i in range(0,5):\n",
    "    if i==1:\n",
    "        continue\n",
    "    print(f\"Value is {i}\")"
   ]
  },
  {
   "cell_type": "code",
   "execution_count": 42,
   "id": "3613a40d-c514-4b00-aab2-2c08b3e67e01",
   "metadata": {},
   "outputs": [
    {
     "name": "stdout",
     "output_type": "stream",
     "text": [
      "Odd number\n",
      "Odd number\n",
      "Odd number\n",
      "Odd number\n",
      "Odd number\n",
      "Odd number\n",
      "Odd number\n",
      "Odd number\n",
      "Odd number\n",
      "Odd number\n",
      "Odd number\n"
     ]
    }
   ],
   "source": [
    "# pass basiccally pass the loop\n",
    "for i in range(1,12):\n",
    "    if(i%2==0):\n",
    "        pass\n",
    "    print(\"Odd number\")"
   ]
  },
  {
   "cell_type": "code",
   "execution_count": 34,
   "id": "713165b7-17e6-423c-8550-c1eedb7f7c23",
   "metadata": {},
   "outputs": [],
   "source": [
    "def prime_number(num: int)-> bool:\n",
    "    i=2\n",
    "    while(i<num):\n",
    "        if(num%i==0):\n",
    "            return False\n",
    "        i+=1\n",
    "    return True"
   ]
  },
  {
   "cell_type": "code",
   "execution_count": 37,
   "id": "6c21683c-6a10-4cf5-910b-c451e93d7a37",
   "metadata": {},
   "outputs": [
    {
     "data": {
      "text/plain": [
       "False"
      ]
     },
     "execution_count": 37,
     "metadata": {},
     "output_type": "execute_result"
    }
   ],
   "source": [
    "prime_number(10)"
   ]
  },
  {
   "cell_type": "code",
   "execution_count": 38,
   "id": "41780346-aa5f-4e64-9a7f-711a324c0234",
   "metadata": {},
   "outputs": [
    {
     "name": "stdin",
     "output_type": "stream",
     "text": [
      "Enter number 1:  20\n",
      "Enter number 2:  30\n"
     ]
    },
    {
     "name": "stdout",
     "output_type": "stream",
     "text": [
      "23 is a prime number\n",
      "29 is a prime number\n"
     ]
    }
   ],
   "source": [
    "num1= int(input(\"Enter number 1: \"))\n",
    "num2= int(input(\"Enter number 2: \"))\n",
    "\n",
    "\n",
    "for i in range(num1,num2):\n",
    "    if(prime_number(i)):\n",
    "        print(f\"{i} is a prime number\")\n",
    "    else:\n",
    "        pass"
   ]
  },
  {
   "cell_type": "markdown",
   "id": "33f9a762-68cf-457f-ac01-19d7ac0cc38f",
   "metadata": {},
   "source": [
    "## 14. Strings"
   ]
  },
  {
   "cell_type": "markdown",
   "id": "0c49090c-1b09-4e2f-8118-faa0b1564d98",
   "metadata": {
    "jp-MarkdownHeadingCollapsed": true
   },
   "source": [
    "### 1. Creating strings"
   ]
  },
  {
   "cell_type": "code",
   "execution_count": 47,
   "id": "5ccc6688-2c45-452b-8956-28c190fcf2bd",
   "metadata": {},
   "outputs": [
    {
     "name": "stdout",
     "output_type": "stream",
     "text": [
      "Hello\n"
     ]
    }
   ],
   "source": [
    "s=\"Hello\"\n",
    "s= 'Helo'\n",
    "\n",
    "# multiline strings\n",
    "s= '''Hello'''\n",
    "s= \"\"\"Hello\"\"\"\n",
    "s=str(\"Hello\")\n",
    "print(s)"
   ]
  },
  {
   "cell_type": "markdown",
   "id": "f4f9e4c1-6678-4ed1-95ec-4c7d03b9f7b0",
   "metadata": {},
   "source": [
    "Why \"\" and '' comma exist for representing strings? one could have done the job isn't it?\n",
    "But in cases like \n",
    "> 'It's raining out there'\n",
    "> \n",
    "This will throw error because are some isssues in understanding of ' so in this place we will use \"It's raining out there\""
   ]
  },
  {
   "cell_type": "markdown",
   "id": "63f11cff-5f51-4889-8c84-87f72c0590e8",
   "metadata": {
    "jp-MarkdownHeadingCollapsed": true
   },
   "source": [
    "### 2. Acccessing substrings from a string : Indexing"
   ]
  },
  {
   "cell_type": "code",
   "execution_count": 50,
   "id": "617299e6-c71b-4e82-8821-59294b3d0f08",
   "metadata": {},
   "outputs": [
    {
     "name": "stdout",
     "output_type": "stream",
     "text": [
      "H e l\n"
     ]
    }
   ],
   "source": [
    "# Positive Indexing : Go from left to right\n",
    "s=\"Hello world\"\n",
    "print(s[0],s[1],s[2])"
   ]
  },
  {
   "cell_type": "code",
   "execution_count": 52,
   "id": "41cdd8ff-dd11-496f-86bf-065d03822f3c",
   "metadata": {},
   "outputs": [
    {
     "name": "stdout",
     "output_type": "stream",
     "text": [
      "d l r\n"
     ]
    }
   ],
   "source": [
    "# Negative Indexing : Go from right to left\n",
    "print(s[-1],s[-2],s[-3])"
   ]
  },
  {
   "cell_type": "markdown",
   "id": "860a8a4c-651c-4eee-b5e5-b69f6b17c92d",
   "metadata": {},
   "source": [
    "### 3. Slicing : We can get subsequence"
   ]
  },
  {
   "cell_type": "code",
   "execution_count": 55,
   "id": "58ab420e-d8cc-45d6-9399-f40d14bfd1cb",
   "metadata": {},
   "outputs": [
    {
     "data": {
      "text/plain": [
       "'Hel'"
      ]
     },
     "execution_count": 55,
     "metadata": {},
     "output_type": "execute_result"
    }
   ],
   "source": [
    "s=\"Hello world\"\n",
    "s[0:3] # This means we can go from 0 and end up in 2, here 3 is not included."
   ]
  },
  {
   "cell_type": "code",
   "execution_count": 56,
   "id": "ad8536f4-5858-4263-9add-dd98b7cca458",
   "metadata": {},
   "outputs": [
    {
     "data": {
      "text/plain": [
       "'el'"
      ]
     },
     "execution_count": 56,
     "metadata": {},
     "output_type": "execute_result"
    }
   ],
   "source": [
    "s[1:3]"
   ]
  },
  {
   "cell_type": "code",
   "execution_count": 57,
   "id": "69e78d33-1292-46e8-b254-02b1e6a8533a",
   "metadata": {},
   "outputs": [
    {
     "data": {
      "text/plain": [
       "'llo world'"
      ]
     },
     "execution_count": 57,
     "metadata": {},
     "output_type": "execute_result"
    }
   ],
   "source": [
    "s[2:]"
   ]
  },
  {
   "cell_type": "code",
   "execution_count": 59,
   "id": "00873f2f-2794-47d1-93f5-54ef901b7d5f",
   "metadata": {},
   "outputs": [
    {
     "data": {
      "text/plain": [
       "'Hlowrd'"
      ]
     },
     "execution_count": 59,
     "metadata": {},
     "output_type": "execute_result"
    }
   ],
   "source": [
    "s[::2] # Here start:end:step-size"
   ]
  },
  {
   "cell_type": "code",
   "execution_count": 60,
   "id": "5f3c14d7-7710-4d11-8317-a836ffab1f9f",
   "metadata": {},
   "outputs": [
    {
     "data": {
      "text/plain": [
       "'dlrow olleH'"
      ]
     },
     "execution_count": 60,
     "metadata": {},
     "output_type": "execute_result"
    }
   ],
   "source": [
    "# Negative slicing\n",
    "\n",
    "s[::-1]"
   ]
  },
  {
   "cell_type": "markdown",
   "id": "96eafe8c-7da5-4590-b64d-8cbc126180d8",
   "metadata": {},
   "source": [
    "When doing negative slicing make sure the 1st number is bigger than the second number"
   ]
  },
  {
   "cell_type": "code",
   "execution_count": 61,
   "id": "1d1ac485-0060-42a6-b876-5c669d49c3af",
   "metadata": {},
   "outputs": [
    {
     "data": {
      "text/plain": [
       "'w olle'"
      ]
     },
     "execution_count": 61,
     "metadata": {},
     "output_type": "execute_result"
    }
   ],
   "source": [
    "s[6:0:-1]"
   ]
  },
  {
   "cell_type": "code",
   "execution_count": null,
   "id": "5a845286-18a7-4a89-987c-4f6a9d7c9acf",
   "metadata": {},
   "outputs": [],
   "source": []
  }
 ],
 "metadata": {
  "colab": {
   "collapsed_sections": [
    "8c3ee9c2-9f72-41b6-9757-922f8e8be3eb",
    "b3b25cd3-e6a6-4e29-943c-83e2a95ea1e1",
    "69412691-d95f-455d-b4e5-2af6bcceccc4",
    "8009b7d1-9df7-4bcf-8180-6f98b2c71d54",
    "01344058-2c30-42c1-9b72-b1234fbd77ef",
    "013d122f-6d74-43bd-807d-1f4f6458921a",
    "f58832f5-3aeb-41b0-93b3-802cd41fabf0",
    "0atorK6v-eC8",
    "5Ijho_V_-jlE",
    "LT-47q30--8v",
    "kBLffSfj_OTx",
    "rUKJxShc_iD5",
    "dDXGH1_BAw-b",
    "4L7Ws16CCjGA",
    "A2OSvzHjFS9T",
    "YRhYbML6HlQp",
    "HMz3gfCSKPK-"
   ],
   "provenance": []
  },
  "kernelspec": {
   "display_name": "Python 3 (ipykernel)",
   "language": "python",
   "name": "python3"
  },
  "language_info": {
   "codemirror_mode": {
    "name": "ipython",
    "version": 3
   },
   "file_extension": ".py",
   "mimetype": "text/x-python",
   "name": "python",
   "nbconvert_exporter": "python",
   "pygments_lexer": "ipython3",
   "version": "3.12.7"
  }
 },
 "nbformat": 4,
 "nbformat_minor": 5
}
