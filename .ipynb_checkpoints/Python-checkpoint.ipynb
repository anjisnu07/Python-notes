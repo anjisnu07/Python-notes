{
  "cells": [
    {
      "cell_type": "markdown",
      "id": "8c3ee9c2-9f72-41b6-9757-922f8e8be3eb",
      "metadata": {
        "jp-MarkdownHeadingCollapsed": true,
        "id": "8c3ee9c2-9f72-41b6-9757-922f8e8be3eb"
      },
      "source": [
        "## 1. Python output"
      ]
    },
    {
      "cell_type": "code",
      "execution_count": null,
      "id": "28b846d1-ffca-4ddb-bdd6-c49d400d4f85",
      "metadata": {
        "id": "28b846d1-ffca-4ddb-bdd6-c49d400d4f85",
        "outputId": "75a719e1-b344-4c37-e8dd-7496fb777883"
      },
      "outputs": [
        {
          "name": "stdout",
          "output_type": "stream",
          "text": [
            "Itobuz\n"
          ]
        }
      ],
      "source": [
        "print(\"Itobuz\")"
      ]
    },
    {
      "cell_type": "code",
      "execution_count": null,
      "id": "d976a177-5a19-4613-ae8e-9668e88f3954",
      "metadata": {
        "id": "d976a177-5a19-4613-ae8e-9668e88f3954",
        "outputId": "e746ee77-c020-4656-e555-b53ba9e93361"
      },
      "outputs": [
        {
          "name": "stdout",
          "output_type": "stream",
          "text": [
            "5\n"
          ]
        }
      ],
      "source": [
        "print(5)"
      ]
    },
    {
      "cell_type": "code",
      "execution_count": null,
      "id": "a780cebb-69ba-42e5-be70-c29d6c1bf619",
      "metadata": {
        "id": "a780cebb-69ba-42e5-be70-c29d6c1bf619",
        "outputId": "e4f6e317-d218-4cc3-90f2-8989fe004570"
      },
      "outputs": [
        {
          "name": "stdout",
          "output_type": "stream",
          "text": [
            "<class 'int'>\n"
          ]
        }
      ],
      "source": [
        "print(type(5))"
      ]
    },
    {
      "cell_type": "code",
      "execution_count": null,
      "id": "54836960-448f-48f2-91b2-718cedf48d5c",
      "metadata": {
        "id": "54836960-448f-48f2-91b2-718cedf48d5c",
        "outputId": "e3ac8d2e-6981-4028-9a5c-16bff9455ca0"
      },
      "outputs": [
        {
          "name": "stdout",
          "output_type": "stream",
          "text": [
            "Hello451452455\n"
          ]
        }
      ],
      "source": [
        "print(\"Hello\",1,2,\"5\")"
      ]
    },
    {
      "cell_type": "markdown",
      "id": "5dd9af1f-11b9-4d88-a6ea-61f6b9483206",
      "metadata": {
        "id": "5dd9af1f-11b9-4d88-a6ea-61f6b9483206"
      },
      "source": [
        "<p style=\"color:red; font-size:14px;\">Why does Python put a space between printed items?</p>\n",
        "\n",
        "---\n",
        "\n",
        "When you print multiple items with `print()`, Python puts a space between them by default.  \n",
        "\n",
        "This happens because of the **`sep`** parameter, which is set to `' '` (space) by default.\n",
        "\n",
        "---\n",
        "\n",
        "##### Full `print()` Function with Defaults\n",
        "```python\n",
        "print(object(s), sep=' ', end='\\n', file=sys.stdout, flush=False)\n",
        "```\n",
        "\n",
        "| Parameter   | Default Value     | Meaning (Easy Explanation)                                                                                                                         |\n",
        "| ----------- | ----------------- | -------------------------------------------------------------------------------------------------------------------------------------------------- |\n",
        "| `object(s)` | Required          | The things you want to print. It can be text, numbers, variables, etc.                                                                             |\n",
        "| `sep`       | `' '` (space)     | **Separator** between multiple items. Default is a space. You can change it to anything like `,` or `-`.                                           |\n",
        "| `end`       | `'\\n'` (new line) | What gets printed **after** your message. By default, it adds a new line. You can change it to anything like `\" \"` or `\"😊\"`.                      |\n",
        "| `file`      | `sys.stdout`      | Where the output goes. By default, it's the screen. You can redirect output to a file.                                                             |\n",
        "| `flush`     | `False`           | If `True`, forces Python to show the output immediately. Used in special cases like real-time progress updates. Beginners can usually ignore this. |\n",
        "\n",
        "\n",
        "\n"
      ]
    },
    {
      "cell_type": "code",
      "execution_count": null,
      "id": "3936c781-60c1-4df7-9aad-63c1fc2638c6",
      "metadata": {
        "id": "3936c781-60c1-4df7-9aad-63c1fc2638c6",
        "outputId": "d72cbc48-3cba-4d2f-91f2-68ffc4bdcc2f"
      },
      "outputs": [
        {
          "name": "stdout",
          "output_type": "stream",
          "text": [
            "Hello-1-2-5\n"
          ]
        }
      ],
      "source": [
        "print(\"Hello\",1,2,\"5\",sep=\"-\")"
      ]
    },
    {
      "cell_type": "code",
      "execution_count": null,
      "id": "290ab0f3-dce1-4258-a69b-aef18b64a070",
      "metadata": {
        "id": "290ab0f3-dce1-4258-a69b-aef18b64a070",
        "outputId": "c50c954d-52f2-4ab7-b4ba-fdad503357fd"
      },
      "outputs": [
        {
          "name": "stdout",
          "output_type": "stream",
          "text": [
            "1\n",
            "2\n"
          ]
        }
      ],
      "source": [
        "print(\"1\")\n",
        "print(\"2\")"
      ]
    },
    {
      "cell_type": "markdown",
      "id": "e500df6f-1720-4022-986b-8c9d663767c8",
      "metadata": {
        "id": "e500df6f-1720-4022-986b-8c9d663767c8"
      },
      "source": [
        "<p style=\"color:green; font-size:18px;\"> 1 and 2 are in different line right?\n",
        "\n",
        "*   List item\n",
        "*   List item\n",
        "\n",
        "This is because of 'end' parameter and its default value is '\\n' which is newline character</p>"
      ]
    },
    {
      "cell_type": "code",
      "execution_count": null,
      "id": "c60cf463-6267-4270-9fdb-adf19478c5f7",
      "metadata": {
        "id": "c60cf463-6267-4270-9fdb-adf19478c5f7",
        "outputId": "58dfc95b-0f4d-43d0-b32d-c8ec4a8e1272"
      },
      "outputs": [
        {
          "name": "stdout",
          "output_type": "stream",
          "text": [
            "1 2\n"
          ]
        }
      ],
      "source": [
        "print(1,end=\" \")\n",
        "print(2)"
      ]
    },
    {
      "cell_type": "markdown",
      "id": "b3b25cd3-e6a6-4e29-943c-83e2a95ea1e1",
      "metadata": {
        "jp-MarkdownHeadingCollapsed": true,
        "id": "b3b25cd3-e6a6-4e29-943c-83e2a95ea1e1"
      },
      "source": [
        "## 2. Data types\n",
        "- Integer\n",
        "- decimal/float\n",
        "- boolean\n",
        "- string\n",
        "- complex numbers\n",
        "- List\n",
        "- Tuples\n",
        "- set\n",
        "- Dict"
      ]
    },
    {
      "cell_type": "code",
      "execution_count": null,
      "id": "f8a46cfe-836c-45fd-83f9-7440767df344",
      "metadata": {
        "id": "f8a46cfe-836c-45fd-83f9-7440767df344",
        "outputId": "ef1a7e57-93bc-4b62-94a6-f161f13eee6b"
      },
      "outputs": [
        {
          "name": "stdout",
          "output_type": "stream",
          "text": [
            "<class 'int'>\n"
          ]
        }
      ],
      "source": [
        "print(type(8))"
      ]
    },
    {
      "cell_type": "code",
      "execution_count": null,
      "id": "c8e1b50c-59ac-496c-a6c2-a53ea91e4572",
      "metadata": {
        "id": "c8e1b50c-59ac-496c-a6c2-a53ea91e4572",
        "outputId": "68c3dc4a-97ce-4af3-9098-24b5a8dd5e9a"
      },
      "outputs": [
        {
          "name": "stdout",
          "output_type": "stream",
          "text": [
            "<class 'float'>\n"
          ]
        }
      ],
      "source": [
        "print(type(7.5))"
      ]
    },
    {
      "cell_type": "code",
      "execution_count": null,
      "id": "2bf341cd-8cff-4dd5-94be-7d92b614d74a",
      "metadata": {
        "id": "2bf341cd-8cff-4dd5-94be-7d92b614d74a",
        "outputId": "8d5cf0ae-fc08-418e-eeb8-df6a7ea8c599"
      },
      "outputs": [
        {
          "name": "stdout",
          "output_type": "stream",
          "text": [
            "<class 'bool'>\n"
          ]
        }
      ],
      "source": [
        "print(type(True))"
      ]
    },
    {
      "cell_type": "code",
      "execution_count": null,
      "id": "ec1c6d13-4799-4af1-bbda-da72857f0110",
      "metadata": {
        "id": "ec1c6d13-4799-4af1-bbda-da72857f0110",
        "outputId": "19b4bb22-c65f-4360-9506-948a5a5566c8"
      },
      "outputs": [
        {
          "name": "stdout",
          "output_type": "stream",
          "text": [
            "<class 'str'>\n"
          ]
        }
      ],
      "source": [
        "print(type(\"Anjisnu\"))"
      ]
    },
    {
      "cell_type": "code",
      "execution_count": null,
      "id": "c05e1213-2550-41c5-80ab-bb648d58e2f4",
      "metadata": {
        "id": "c05e1213-2550-41c5-80ab-bb648d58e2f4",
        "outputId": "8b2440dc-b1f7-4932-f964-8c3377e871b9"
      },
      "outputs": [
        {
          "name": "stdout",
          "output_type": "stream",
          "text": [
            "<class 'list'>\n"
          ]
        }
      ],
      "source": [
        "print(type([1,2,3]))"
      ]
    },
    {
      "cell_type": "code",
      "execution_count": null,
      "id": "f17b1fcb-e52e-452a-be2d-253fab9fd6d2",
      "metadata": {
        "id": "f17b1fcb-e52e-452a-be2d-253fab9fd6d2",
        "outputId": "9da18d59-8e53-455f-eaa9-316bcd1d9210"
      },
      "outputs": [
        {
          "name": "stdout",
          "output_type": "stream",
          "text": [
            "<class 'tuple'>\n"
          ]
        }
      ],
      "source": [
        "print(type((1,2,3,4)))"
      ]
    },
    {
      "cell_type": "code",
      "execution_count": null,
      "id": "f54439e0-be3e-4307-b482-d4899d2678d0",
      "metadata": {
        "id": "f54439e0-be3e-4307-b482-d4899d2678d0",
        "outputId": "24a90d70-0f52-44ca-a113-ddec1a1ddd2d"
      },
      "outputs": [
        {
          "name": "stdout",
          "output_type": "stream",
          "text": [
            "<class 'set'>\n"
          ]
        }
      ],
      "source": [
        "print(type({1,2,3}))"
      ]
    },
    {
      "cell_type": "code",
      "execution_count": null,
      "id": "f1a41960-cac0-4e1a-9890-1b67949b7c94",
      "metadata": {
        "id": "f1a41960-cac0-4e1a-9890-1b67949b7c94",
        "outputId": "51282988-0272-4513-bc70-8a686e9e02e4"
      },
      "outputs": [
        {
          "name": "stdout",
          "output_type": "stream",
          "text": [
            "<class 'dict'>\n"
          ]
        }
      ],
      "source": [
        "print(type({'name' : 'Anjsnu','gender' : 'Male'}))"
      ]
    },
    {
      "cell_type": "markdown",
      "id": "69412691-d95f-455d-b4e5-2af6bcceccc4",
      "metadata": {
        "jp-MarkdownHeadingCollapsed": true,
        "id": "69412691-d95f-455d-b4e5-2af6bcceccc4"
      },
      "source": [
        "## 3. Variables\n",
        "\n",
        "Variables are basically **containers** that store information for future use.\n",
        "\n",
        "When you create a variable, you don't always know exactly what the user or the program might store in it later — it can be a number, text, or almost anything.\n",
        "\n",
        "That’s why we use variables — to hold values that can change or be updated as needed.\n",
        "\n",
        "```python\n",
        "name = \"John\"      # A text value\n",
        "age = 25           # A number value\n",
        "price = 99.99      # A decimal value\n",
        "```\n",
        "<p style=\"color:green; font-size:18px;\"> The best part is you never need to specify the datatype of the variable</p>"
      ]
    },
    {
      "cell_type": "code",
      "execution_count": null,
      "id": "fd920fc6-3f6b-450f-aa4c-bf43973e610f",
      "metadata": {
        "id": "fd920fc6-3f6b-450f-aa4c-bf43973e610f",
        "outputId": "e2f05c09-85b3-4bdd-defd-bb24503c2f31"
      },
      "outputs": [
        {
          "name": "stdout",
          "output_type": "stream",
          "text": [
            "Anjisnu\n"
          ]
        }
      ],
      "source": [
        "name = \"Anjisnu\"\n",
        "print(name)"
      ]
    },
    {
      "cell_type": "code",
      "execution_count": null,
      "id": "ac51999e-2855-4505-993f-d8db3db819f8",
      "metadata": {
        "id": "ac51999e-2855-4505-993f-d8db3db819f8",
        "outputId": "27e3e0d4-97bc-4d80-8bf8-27f2fd114107"
      },
      "outputs": [
        {
          "name": "stdout",
          "output_type": "stream",
          "text": [
            "18\n"
          ]
        }
      ],
      "source": [
        "a=6\n",
        "b=12\n",
        "print(a+b)"
      ]
    },
    {
      "cell_type": "markdown",
      "id": "45a194c1-9840-4e9d-8b88-8e7a3fc1e915",
      "metadata": {
        "id": "45a194c1-9840-4e9d-8b88-8e7a3fc1e915"
      },
      "source": [
        "**Dynamic Typing**\n",
        "\n",
        "In Python, you don't need to tell the type of a variable when you create it. The **Python interpreter is smart enough** to figure out the type by looking at the value you assign.\n",
        "\n",
        "This is called **Dynamic Typing**.\n",
        "Example:\n",
        "\n",
        "```python\n",
        "x = 10        # Python knows this is an integer\n",
        "x = \"Hello\"   # Now, Python knows this is a string\n",
        "x = 3.14      # Now, it's a float\n",
        "```\n",
        "\n",
        "**Dynamic Binding**\n",
        "  \n",
        "It means that the actual value (or type) of a variable is decided at runtime, not at the time of writing the code.\n",
        "\n",
        "In simple terms, the connection between the variable name and its actual object/value happens when the program is running.\n",
        "\n",
        "```python\n",
        "def greet(name):\n",
        "    print(\"Hello,\", name)\n",
        "\n",
        "greet(\"John\")   # 'name' is bound to the string 'John' at runtime\n",
        "greet(123)      # 'name' is bound to the integer 123 at runtime\n"
      ]
    },
    {
      "cell_type": "code",
      "execution_count": null,
      "id": "fb04107c-b4c2-4533-8ca9-ef0b9f1c9ca1",
      "metadata": {
        "id": "fb04107c-b4c2-4533-8ca9-ef0b9f1c9ca1",
        "outputId": "d14ee253-1133-4af3-ba6f-b1b9396adda3"
      },
      "outputs": [
        {
          "name": "stdout",
          "output_type": "stream",
          "text": [
            "1 2 3\n"
          ]
        }
      ],
      "source": [
        "a,b,c=1,2,3\n",
        "print(a,b,c)"
      ]
    },
    {
      "cell_type": "code",
      "execution_count": null,
      "id": "eb016c16-7171-4488-aa2b-bbbf9a43b939",
      "metadata": {
        "id": "eb016c16-7171-4488-aa2b-bbbf9a43b939",
        "outputId": "39f04d86-3beb-462f-e277-870cdce114c9"
      },
      "outputs": [
        {
          "name": "stdout",
          "output_type": "stream",
          "text": [
            "5 5 5\n"
          ]
        }
      ],
      "source": [
        "a=b=c=5\n",
        "print(a,b,c)"
      ]
    },
    {
      "cell_type": "markdown",
      "id": "8009b7d1-9df7-4bcf-8180-6f98b2c71d54",
      "metadata": {
        "jp-MarkdownHeadingCollapsed": true,
        "id": "8009b7d1-9df7-4bcf-8180-6f98b2c71d54"
      },
      "source": [
        "## 4. Keywords & Identifiers\n",
        "\n",
        "\n",
        "**Keywords**\n",
        "\n",
        "Keywords are the **reserved words** in Python that have special meaning. You **cannot** use them as variable names, function names, or identifiers.\n",
        "\n",
        "They are part of the Python language syntax itself.\n",
        "\n",
        "**Example of Keywords:**\n",
        "\n",
        "```python\n",
        "if = 10    # ❌ Invalid - 'if' is a keyword\n",
        "```\n",
        "\n",
        "**What are Identifiers?**\n",
        "\n",
        "**Identifiers** are the names you assign to:\n",
        "\n",
        "- Variables  \n",
        "- Functions  \n",
        "- Classes  \n",
        "- Modules  \n",
        "- Objects  \n",
        "\n",
        "They are used to uniquely identify different parts of your code.\n",
        "\n",
        "---\n",
        "\n",
        "**Rules for Writing Identifiers:**\n",
        "\n",
        "Can contain **letters (A-Z, a-z)**, **digits (0-9)**, and **underscores `_`**  \n",
        "**Cannot start with a digit**  \n",
        "**Cannot be a Python keyword**  \n",
        "Are **case-sensitive** (`Name` and `name` are different)  \n",
        "\n",
        "---\n",
        "\n",
        "**Examples of Valid Identifiers:**\n",
        "\n",
        "```python\n",
        "name = \"Alice\"\n",
        "age = 30\n",
        "_total = 100\n",
        "userName = \"John\"\n",
        "price2 = 49.99\n"
      ]
    },
    {
      "cell_type": "code",
      "execution_count": null,
      "id": "281e3c4a-e090-4a1b-9b77-fea24f3a7f79",
      "metadata": {
        "id": "281e3c4a-e090-4a1b-9b77-fea24f3a7f79",
        "outputId": "23f98eef-62b2-4bcb-cb9a-a1d5c3be9008"
      },
      "outputs": [
        {
          "ename": "SyntaxError",
          "evalue": "invalid syntax (1330624585.py, line 2)",
          "output_type": "error",
          "traceback": [
            "\u001b[0;36m  Cell \u001b[0;32mIn[46], line 2\u001b[0;36m\u001b[0m\n\u001b[0;31m    if=10\u001b[0m\n\u001b[0m      ^\u001b[0m\n\u001b[0;31mSyntaxError\u001b[0m\u001b[0;31m:\u001b[0m invalid syntax\n"
          ]
        }
      ],
      "source": [
        "# error\n",
        "if=10"
      ]
    },
    {
      "cell_type": "code",
      "execution_count": null,
      "id": "1fc08fcf-6ec2-42ae-a52a-ff05f58a42c9",
      "metadata": {
        "id": "1fc08fcf-6ec2-42ae-a52a-ff05f58a42c9",
        "outputId": "d6b65712-4ffa-494e-ed54-2c858c649850"
      },
      "outputs": [
        {
          "name": "stdout",
          "output_type": "stream",
          "text": [
            "name :  Anjisnu \n",
            " Name :  roy\n"
          ]
        }
      ],
      "source": [
        "# Case sensitive\n",
        "name=\"Anjisnu\"\n",
        "Name=\"roy\"\n",
        "print(\"name : \", name ,\"\\n\", \"Name : \", Name)"
      ]
    },
    {
      "cell_type": "markdown",
      "id": "01344058-2c30-42c1-9b72-b1234fbd77ef",
      "metadata": {
        "jp-MarkdownHeadingCollapsed": true,
        "id": "01344058-2c30-42c1-9b72-b1234fbd77ef"
      },
      "source": [
        "## 5. User Input"
      ]
    },
    {
      "cell_type": "code",
      "execution_count": null,
      "id": "a9bbc2bf-8df6-46e5-8ce0-954a09a824ad",
      "metadata": {
        "id": "a9bbc2bf-8df6-46e5-8ce0-954a09a824ad",
        "outputId": "24626c39-c651-4952-f724-b038f8ebd1c8"
      },
      "outputs": [
        {
          "name": "stdin",
          "output_type": "stream",
          "text": [
            "What is your name Anjisnu\n"
          ]
        }
      ],
      "source": [
        "Name = input(\"What is your name\")"
      ]
    },
    {
      "cell_type": "code",
      "execution_count": null,
      "id": "4359156e-e2d8-4022-8de9-e537bb07d303",
      "metadata": {
        "id": "4359156e-e2d8-4022-8de9-e537bb07d303",
        "outputId": "67b7a5e5-b083-4a44-8f09-2f2ce4c9a249"
      },
      "outputs": [
        {
          "name": "stdout",
          "output_type": "stream",
          "text": [
            "Anjisnu\n"
          ]
        }
      ],
      "source": [
        "print(Name)"
      ]
    },
    {
      "cell_type": "code",
      "execution_count": null,
      "id": "078f1939-9b9a-4e34-ae0f-5b98297790ad",
      "metadata": {
        "id": "078f1939-9b9a-4e34-ae0f-5b98297790ad",
        "outputId": "1a425908-d97f-4994-8ab3-e8e3d702fa71"
      },
      "outputs": [
        {
          "name": "stdin",
          "output_type": "stream",
          "text": [
            "Enter one number 3\n",
            "Enter 2nd number 12\n"
          ]
        },
        {
          "name": "stdout",
          "output_type": "stream",
          "text": [
            "312\n"
          ]
        }
      ],
      "source": [
        "a=input(\"Enter one number\")\n",
        "b=input(\"Enter 2nd number\")\n",
        "print(a+b)"
      ]
    },
    {
      "cell_type": "markdown",
      "id": "adce5345-020a-4517-be83-0cc6c5684cab",
      "metadata": {
        "id": "adce5345-020a-4517-be83-0cc6c5684cab"
      },
      "source": [
        "<p style=\"color:orange; font-size:16px;\">\n",
        "When we take input from the user using <code>input()</code>, it is always stored as a <b>string</b>.  \n",
        "This is because <b>string</b> is a universal data format — it can represent letters, numbers, symbols, anything!As solution we need to typecast the data type to int or something for mathematical operations\n",
        "</p>"
      ]
    },
    {
      "cell_type": "code",
      "execution_count": null,
      "id": "53d33745-8eb0-404f-ae61-6a23296345a9",
      "metadata": {
        "id": "53d33745-8eb0-404f-ae61-6a23296345a9",
        "outputId": "c8b4f6a9-35e8-485f-87a6-0bbe34b68926"
      },
      "outputs": [
        {
          "name": "stdin",
          "output_type": "stream",
          "text": [
            "Enter one number 3\n",
            "Enter 2nd number 4\n"
          ]
        },
        {
          "name": "stdout",
          "output_type": "stream",
          "text": [
            "7\n"
          ]
        }
      ],
      "source": [
        "a=input(\"Enter one number\")\n",
        "b=input(\"Enter 2nd number\")\n",
        "print(int(a)+int(b))"
      ]
    },
    {
      "cell_type": "markdown",
      "id": "013d122f-6d74-43bd-807d-1f4f6458921a",
      "metadata": {
        "jp-MarkdownHeadingCollapsed": true,
        "id": "013d122f-6d74-43bd-807d-1f4f6458921a"
      },
      "source": [
        "## 6. Typecasting\n",
        "\n",
        "- It is of two types:\n",
        "  - Implicit : Which python automatically handle by himself\n",
        "  - explicit :  where we need to convert manually"
      ]
    },
    {
      "cell_type": "code",
      "execution_count": null,
      "id": "393c1211-d326-479d-98e0-051fb0956fb2",
      "metadata": {
        "id": "393c1211-d326-479d-98e0-051fb0956fb2",
        "outputId": "75b30e0e-87ae-4628-e60c-11b92e9b7ba0"
      },
      "outputs": [
        {
          "name": "stdout",
          "output_type": "stream",
          "text": [
            "<class 'float'>\n"
          ]
        }
      ],
      "source": [
        "# IMplicit example\n",
        "a=4+6.5\n",
        "print(type(a))"
      ]
    },
    {
      "cell_type": "code",
      "execution_count": null,
      "id": "0f6a03e4-11a3-47d8-b269-606041171eae",
      "metadata": {
        "id": "0f6a03e4-11a3-47d8-b269-606041171eae"
      },
      "outputs": [],
      "source": [
        "# explicit\n"
      ]
    },
    {
      "cell_type": "code",
      "execution_count": null,
      "id": "3c176a19-02c3-4e4d-9176-eee2e87758b4",
      "metadata": {
        "id": "3c176a19-02c3-4e4d-9176-eee2e87758b4",
        "outputId": "79f47d47-2fc6-4a2f-b0e5-6f7ada936f3b"
      },
      "outputs": [
        {
          "name": "stdin",
          "output_type": "stream",
          "text": [
            "Enter one number 8\n",
            "Enter 2nd number 9\n"
          ]
        },
        {
          "name": "stdout",
          "output_type": "stream",
          "text": [
            "17\n"
          ]
        }
      ],
      "source": [
        "a=input(\"Enter one number\")\n",
        "b=input(\"Enter 2nd number\")\n",
        "print(int(a)+int(b))"
      ]
    },
    {
      "cell_type": "markdown",
      "id": "4a953622-1a2a-41cb-82ff-c7423995bc96",
      "metadata": {
        "id": "4a953622-1a2a-41cb-82ff-c7423995bc96"
      },
      "source": [
        "<p style=\"color: red; font-size: 18px\">What will be the datatype of 'a' and 'b' now? it will be int cause we typecasted?</p>"
      ]
    },
    {
      "cell_type": "code",
      "execution_count": null,
      "id": "3fd36a80-5f4d-4bd2-b83d-8b4610f5d9c2",
      "metadata": {
        "id": "3fd36a80-5f4d-4bd2-b83d-8b4610f5d9c2",
        "outputId": "96dd38bb-d22e-4787-f9e3-870192fa49a5"
      },
      "outputs": [
        {
          "data": {
            "text/plain": [
              "str"
            ]
          },
          "execution_count": 63,
          "metadata": {},
          "output_type": "execute_result"
        }
      ],
      "source": [
        "type(a)"
      ]
    },
    {
      "cell_type": "markdown",
      "id": "4e1f1fc2-dac1-4b4f-b1b7-033085153bf3",
      "metadata": {
        "id": "4e1f1fc2-dac1-4b4f-b1b7-033085153bf3"
      },
      "source": [
        "<p style=\"color: green;font-size: 18px\">It is still string just because we havent stored the typecasted variable in original</p>"
      ]
    },
    {
      "cell_type": "markdown",
      "id": "f58832f5-3aeb-41b0-93b3-802cd41fabf0",
      "metadata": {
        "id": "f58832f5-3aeb-41b0-93b3-802cd41fabf0"
      },
      "source": [
        "## 7. Literals"
      ]
    },
    {
      "cell_type": "markdown",
      "id": "b862b6d2-43ff-4ad6-91a0-cb06094024d5",
      "metadata": {
        "id": "b862b6d2-43ff-4ad6-91a0-cb06094024d5"
      },
      "source": [
        "**What are Literals?**\n",
        "\n",
        "In Python, **Literals** are the fixed values or constant values that you write directly in your code.  \n",
        "\n",
        "They represent the actual data, not variables or functions.\n",
        "\n",
        "**Types of Literals in Python**\n",
        "\n",
        "| Type            | Example                  | Description                                    |\n",
        "|-----------------|--------------------------|------------------------------------------------|\n",
        "| **String Literal**  | `\"Hello\"`, `'Python'`   | Text enclosed in single or double quotes.      |\n",
        "| **Integer Literal** | `10`, `-5`, `1000`      | Whole numbers, positive or negative.           |\n",
        "| **Float Literal**   | `3.14`, `-0.5`, `2.0`   | Numbers with decimal points.                   |\n",
        "| **Boolean Literal** | `True`, `False`         | Represents truth values.                       |\n",
        "| **None Literal**    | `None`                  | Represents \"nothing\" or \"no value\".            |\n",
        "\n",
        "\n",
        "**Example Code:**\n",
        "\n",
        "```python\n",
        "# String Literal\n",
        "name = \"Alice\"\n",
        "\n",
        "# Integer Literal\n",
        "age = 25\n",
        "\n",
        "# Float Literal\n",
        "price = 49.99\n",
        "\n",
        "# Boolean Literal\n",
        "is_active = True\n",
        "\n",
        "# None Literal\n",
        "data = None\n"
      ]
    },
    {
      "cell_type": "code",
      "execution_count": null,
      "id": "98c62891-93b8-4878-8456-c5789c2c6d5e",
      "metadata": {
        "id": "98c62891-93b8-4878-8456-c5789c2c6d5e"
      },
      "outputs": [],
      "source": [
        "name = \"Anjisnu\" # This is a constant value with no varriable this is a literal"
      ]
    },
    {
      "cell_type": "code",
      "execution_count": null,
      "id": "e96ecc9c-1aab-4844-9bcf-d8900a5e08f8",
      "metadata": {
        "id": "e96ecc9c-1aab-4844-9bcf-d8900a5e08f8"
      },
      "outputs": [],
      "source": [
        "2*x+3 # This is not literal cause the X is a variable and"
      ]
    },
    {
      "cell_type": "markdown",
      "id": "55174104-a939-4798-b555-4c920217c7f9",
      "metadata": {
        "id": "55174104-a939-4798-b555-4c920217c7f9"
      },
      "source": [
        "<p style=\"color: orange; font-size: 18px\" > what is the use of none? </p>"
      ]
    },
    {
      "cell_type": "code",
      "execution_count": null,
      "id": "6e77f9c5-9d7f-458c-917c-99062016cdbb",
      "metadata": {
        "id": "6e77f9c5-9d7f-458c-917c-99062016cdbb"
      },
      "outputs": [],
      "source": [
        "k=None"
      ]
    },
    {
      "cell_type": "markdown",
      "id": "305fcc90-353e-4361-893e-056d2dcde440",
      "metadata": {
        "id": "305fcc90-353e-4361-893e-056d2dcde440"
      },
      "source": [
        "<p style=\"color: green; font-size: 18px\">Suppose we don't know like how many varriables we actually need, so for that purpose we can create this as None and later on change with orignal values</p>"
      ]
    },
    {
      "cell_type": "code",
      "execution_count": null,
      "id": "5734d8a5-500f-4c32-80db-19d95f20b0ec",
      "metadata": {
        "id": "5734d8a5-500f-4c32-80db-19d95f20b0ec"
      },
      "outputs": [],
      "source": [
        "k=10"
      ]
    },
    {
      "cell_type": "code",
      "execution_count": null,
      "id": "626d2626-cfae-4f37-8cb1-e24cc6f3d038",
      "metadata": {
        "id": "626d2626-cfae-4f37-8cb1-e24cc6f3d038",
        "outputId": "29949814-b2b1-4231-ba6b-dad60d5e9d1a"
      },
      "outputs": [
        {
          "data": {
            "text/plain": [
              "10"
            ]
          },
          "execution_count": 71,
          "metadata": {},
          "output_type": "execute_result"
        }
      ],
      "source": [
        "k"
      ]
    },
    {
      "cell_type": "markdown",
      "source": [
        "## 8. Operators"
      ],
      "metadata": {
        "id": "0atorK6v-eC8"
      },
      "id": "0atorK6v-eC8"
    },
    {
      "cell_type": "markdown",
      "source": [
        "### Arithmatic Operators"
      ],
      "metadata": {
        "id": "5Ijho_V_-jlE"
      },
      "id": "5Ijho_V_-jlE"
    },
    {
      "cell_type": "code",
      "execution_count": 2,
      "id": "bdf5ff1c-054e-4914-a619-3ae847c71500",
      "metadata": {
        "colab": {
          "base_uri": "https://localhost:8080/"
        },
        "id": "bdf5ff1c-054e-4914-a619-3ae847c71500",
        "outputId": "e96634aa-0888-4aa0-cd3c-7accd0195b2f"
      },
      "outputs": [
        {
          "output_type": "stream",
          "name": "stdout",
          "text": [
            "a+b = 15\n",
            "a-b = 5\n",
            "a*b = 50\n",
            "a/b = 2.0\n",
            "a%b = 0\n",
            "a^b = 100000\n"
          ]
        }
      ],
      "source": [
        "a= 10\n",
        "b=5\n",
        "print(\"a+b =\",a+b)\n",
        "print(\"a-b =\",a-b)\n",
        "print(\"a*b =\",a*b)\n",
        "print(\"a/b =\",a/b)\n",
        "print(\"a%b =\",a%b)\n",
        "print(\"a^b =\",a**b)"
      ]
    },
    {
      "cell_type": "markdown",
      "source": [
        "### Relational Operators"
      ],
      "metadata": {
        "id": "LT-47q30--8v"
      },
      "id": "LT-47q30--8v"
    },
    {
      "cell_type": "code",
      "source": [
        "print(4==5)\n",
        "print(4>5)\n",
        "print(4<5)\n",
        "print(4!=5)"
      ],
      "metadata": {
        "colab": {
          "base_uri": "https://localhost:8080/"
        },
        "id": "eo3pXKCU9on0",
        "outputId": "90070025-8a9c-4c5d-994e-7cdbbf23523f"
      },
      "id": "eo3pXKCU9on0",
      "execution_count": 4,
      "outputs": [
        {
          "output_type": "stream",
          "name": "stdout",
          "text": [
            "False\n",
            "False\n",
            "True\n",
            "True\n"
          ]
        }
      ]
    },
    {
      "cell_type": "markdown",
      "source": [
        "### Logical Operators"
      ],
      "metadata": {
        "id": "kBLffSfj_OTx"
      },
      "id": "kBLffSfj_OTx"
    },
    {
      "cell_type": "code",
      "source": [
        "print(1 and 0)\n",
        "print(1 or 0)\n",
        "print(not 1)"
      ],
      "metadata": {
        "colab": {
          "base_uri": "https://localhost:8080/"
        },
        "id": "iQbvLGz_9oqX",
        "outputId": "331a1c24-3610-415c-977f-1127af346323"
      },
      "id": "iQbvLGz_9oqX",
      "execution_count": 9,
      "outputs": [
        {
          "output_type": "stream",
          "name": "stdout",
          "text": [
            "0\n",
            "1\n",
            "False\n"
          ]
        }
      ]
    },
    {
      "cell_type": "markdown",
      "source": [
        "### Bitwise Operators"
      ],
      "metadata": {
        "id": "rUKJxShc_iD5"
      },
      "id": "rUKJxShc_iD5"
    },
    {
      "cell_type": "code",
      "source": [
        "# Bitwise and\n",
        "print(2 & 3)\n",
        "#Bitwise or\n",
        "print(2 | 3)\n",
        "#Bitwse Xor\n",
        "print(2 ^ 3)\n",
        "# Bitwise not\n",
        "print(~3)\n",
        "\n",
        "#Bitwise left shift\n",
        "print(4>>2) # Shift 4 left by 2 bits\n",
        "\n",
        "#Bitwise Right shift\n",
        "print(4<<2)"
      ],
      "metadata": {
        "colab": {
          "base_uri": "https://localhost:8080/"
        },
        "id": "WCsVQolP9os-",
        "outputId": "02f2ac8a-a1d5-4082-ae4e-bd69a0e5a6de"
      },
      "id": "WCsVQolP9os-",
      "execution_count": 17,
      "outputs": [
        {
          "output_type": "stream",
          "name": "stdout",
          "text": [
            "2\n",
            "3\n",
            "1\n",
            "-4\n",
            "1\n",
            "16\n"
          ]
        }
      ]
    },
    {
      "cell_type": "markdown",
      "source": [
        "### Assignment Operators"
      ],
      "metadata": {
        "id": "dDXGH1_BAw-b"
      },
      "id": "dDXGH1_BAw-b"
    },
    {
      "cell_type": "code",
      "source": [
        "a = 10 # = is assignment operator\n",
        "a += 10 # a = a + 10\n",
        "print(a)\n",
        "\n"
      ],
      "metadata": {
        "colab": {
          "base_uri": "https://localhost:8080/"
        },
        "id": "X7RPJ_T7AwPE",
        "outputId": "fbe274a2-4fa0-48e0-c24e-67560e438068"
      },
      "id": "X7RPJ_T7AwPE",
      "execution_count": 19,
      "outputs": [
        {
          "output_type": "stream",
          "name": "stdout",
          "text": [
            "20\n"
          ]
        }
      ]
    },
    {
      "cell_type": "markdown",
      "source": [
        "<p style=\"color:red\">No increment decrement operator is here in Python</p>  <!-- Will show as plain black text -->"
      ],
      "metadata": {
        "id": "2nXu1ao_BOcm"
      },
      "id": "2nXu1ao_BOcm"
    },
    {
      "cell_type": "markdown",
      "source": [
        "### Membership Operator"
      ],
      "metadata": {
        "id": "TuNM8NXgA3NI"
      },
      "id": "TuNM8NXgA3NI"
    },
    {
      "cell_type": "code",
      "source": [
        "# in/not in\n",
        "\n",
        "print('D' in 'Delhi')\n",
        "print('d' not in 'Delhi')\n",
        "print(1 in [2,3,4,5,6])"
      ],
      "metadata": {
        "colab": {
          "base_uri": "https://localhost:8080/"
        },
        "id": "gxkyPbtx9ovV",
        "outputId": "1335fc79-ba9c-4507-b62a-cf76597118a6"
      },
      "id": "gxkyPbtx9ovV",
      "execution_count": 21,
      "outputs": [
        {
          "output_type": "stream",
          "name": "stdout",
          "text": [
            "True\n",
            "True\n",
            "False\n"
          ]
        }
      ]
    },
    {
      "cell_type": "markdown",
      "source": [
        "## Problem 1 : Get a number from User and find some of digit"
      ],
      "metadata": {
        "id": "4L7Ws16CCjGA"
      },
      "id": "4L7Ws16CCjGA"
    },
    {
      "cell_type": "code",
      "source": [
        "num = input(\"Enter a number\")\n",
        "num=int(num)\n",
        "sum = 0\n",
        "while(num!=0):\n",
        "  sum+=num%10\n",
        "  num=num/10\n",
        "  num=int(num)\n",
        "\n",
        "print(sum)\n",
        ""
      ],
      "metadata": {
        "colab": {
          "base_uri": "https://localhost:8080/"
        },
        "id": "ITANT2mN9oyL",
        "outputId": "0c863b4d-e1ce-4221-c329-1d9a858f9d5d"
      },
      "id": "ITANT2mN9oyL",
      "execution_count": 23,
      "outputs": [
        {
          "output_type": "stream",
          "name": "stdout",
          "text": [
            "Enter a number345\n",
            "12\n"
          ]
        }
      ]
    },
    {
      "cell_type": "markdown",
      "source": [
        "## 9. If-else"
      ],
      "metadata": {
        "id": "A2OSvzHjFS9T"
      },
      "id": "A2OSvzHjFS9T"
    },
    {
      "cell_type": "code",
      "source": [
        "'''\n",
        " correct mail is : admin@anjisnu.com\n",
        " correct pass is : 1234\n",
        "'''\n",
        "\n",
        "mail=input(\"Enter your mail id: \")\n",
        "password = input(\"Enter your password: \")\n",
        "\n",
        "if(mail==\"admin@anjisnu.com\" and password==\"1234\"):\n",
        "  print(\"Welcome user\")\n",
        "elif(mail==\"admin@anjisnu.com\" and password!=\"1234\"):\n",
        "  print(\"You entered correct mail but wrong pass,your last try is: \")\n",
        "  new_pass=input(\"Enter correct password\")\n",
        "  if(new_pass==\"1234\"):\n",
        "    print(\"Welcome user\")\n",
        "  else:\n",
        "    print(\"You entered wrong password again\")\n",
        "else:\n",
        "  print(\"Invalid credentials\")"
      ],
      "metadata": {
        "colab": {
          "base_uri": "https://localhost:8080/"
        },
        "id": "m5O0k5g99o0Q",
        "outputId": "3b92bd19-b8c9-480a-a329-2e4df58f2220"
      },
      "id": "m5O0k5g99o0Q",
      "execution_count": 28,
      "outputs": [
        {
          "output_type": "stream",
          "name": "stdout",
          "text": [
            "Enter your mail id: admin@anjisnu.com\n",
            "Enter your password: 1235\n",
            "You entered correct mail but wrong pass,your last try is: \n",
            "Enter correct password1234\n",
            "Welcome user\n"
          ]
        }
      ]
    },
    {
      "cell_type": "markdown",
      "source": [
        "## Problem 2: User will give 3 numbers,You have to print min number using if-els"
      ],
      "metadata": {
        "id": "YRhYbML6HlQp"
      },
      "id": "YRhYbML6HlQp"
    },
    {
      "cell_type": "code",
      "source": [
        "num1=int(input(\"Enter your number 1 :\"))\n",
        "num2=int(input(\"Enter your number 2 :\"))\n",
        "num3=int(input(\"Enter your number 3 :\"))\n",
        "\n",
        "if(num1<=num2 and num1<=num3):\n",
        "  print(\"Smallest is \",num1)\n",
        "elif(num2<=num1 and num2<=num3):\n",
        "  print(\"Smallest is \",num2)\n",
        "else:\n",
        "    print(\"Smallest is \",num3)\n"
      ],
      "metadata": {
        "colab": {
          "base_uri": "https://localhost:8080/"
        },
        "id": "iHiDncTOFu01",
        "outputId": "70f5b312-ba29-4df5-bd84-529312977bb2"
      },
      "id": "iHiDncTOFu01",
      "execution_count": 31,
      "outputs": [
        {
          "output_type": "stream",
          "name": "stdout",
          "text": [
            "Enter your number 1 :90\n",
            "Enter your number 2 :78\n",
            "Enter your number 3 :9\n",
            "Smallest is  9\n"
          ]
        }
      ]
    },
    {
      "cell_type": "markdown",
      "source": [
        "## 10. Modules\n",
        "- math\n",
        "- constant\n",
        "- random\n",
        "- Keywords"
      ],
      "metadata": {
        "id": "HMz3gfCSKPK-"
      },
      "id": "HMz3gfCSKPK-"
    },
    {
      "cell_type": "code",
      "source": [
        "import math"
      ],
      "metadata": {
        "id": "Nb5fKBPpICYU"
      },
      "id": "Nb5fKBPpICYU",
      "execution_count": null,
      "outputs": []
    },
    {
      "cell_type": "code",
      "source": [
        "math."
      ],
      "metadata": {
        "id": "ZqW8wxmMKjZV"
      },
      "id": "ZqW8wxmMKjZV",
      "execution_count": null,
      "outputs": []
    }
  ],
  "metadata": {
    "kernelspec": {
      "display_name": "Python 3 (ipykernel)",
      "language": "python",
      "name": "python3"
    },
    "language_info": {
      "codemirror_mode": {
        "name": "ipython",
        "version": 3
      },
      "file_extension": ".py",
      "mimetype": "text/x-python",
      "name": "python",
      "nbconvert_exporter": "python",
      "pygments_lexer": "ipython3",
      "version": "3.12.7"
    },
    "colab": {
      "provenance": [],
      "collapsed_sections": [
        "8c3ee9c2-9f72-41b6-9757-922f8e8be3eb",
        "b3b25cd3-e6a6-4e29-943c-83e2a95ea1e1",
        "69412691-d95f-455d-b4e5-2af6bcceccc4",
        "8009b7d1-9df7-4bcf-8180-6f98b2c71d54",
        "01344058-2c30-42c1-9b72-b1234fbd77ef",
        "013d122f-6d74-43bd-807d-1f4f6458921a",
        "f58832f5-3aeb-41b0-93b3-802cd41fabf0",
        "0atorK6v-eC8",
        "5Ijho_V_-jlE",
        "LT-47q30--8v",
        "kBLffSfj_OTx",
        "rUKJxShc_iD5",
        "dDXGH1_BAw-b",
        "4L7Ws16CCjGA",
        "A2OSvzHjFS9T",
        "YRhYbML6HlQp"
      ]
    }
  },
  "nbformat": 4,
  "nbformat_minor": 5
}